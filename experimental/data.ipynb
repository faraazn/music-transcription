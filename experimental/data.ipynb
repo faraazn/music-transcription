{
 "cells": [
  {
   "cell_type": "code",
   "execution_count": null,
   "metadata": {},
   "outputs": [],
   "source": [
    "# Imports\n",
    "import pretty_midi\n",
    "import librosa\n",
    "import librosa.display\n",
    "import matplotlib.pyplot as plt\n",
    "import numpy as np\n",
    "import reverse_pianoroll\n",
    "import IPython.display as ipd\n",
    "np.set_printoptions(threshold=np.nan)"
   ]
  },
  {
   "cell_type": "code",
   "execution_count": null,
   "metadata": {},
   "outputs": [],
   "source": [
    "tempo = 120.0  # beats per min\n",
    "input_length = 3.0  # seconds\n",
    "sr = 22050  # sample rate for synthesis\n",
    "hop_length = 512\n",
    "note_velocity = 90\n",
    "min_pitch = 60  # C4\n",
    "max_pitch = 69  # A4\n",
    "num_notes = int(input_length / 60.0 * tempo)\n",
    "secs_per_beat = 60.0 / tempo"
   ]
  },
  {
   "cell_type": "code",
   "execution_count": null,
   "metadata": {},
   "outputs": [],
   "source": [
    "# generate midi\n",
    "piano_midi = pretty_midi.PrettyMIDI(initial_tempo=tempo)\n",
    "piano_instr = pretty_midi.Instrument(1)\n",
    "\n",
    "# play one note per beat\n",
    "for i in range(num_notes):\n",
    "    note_start = i * secs_per_beat\n",
    "    note_end = (i+1) * secs_per_beat\n",
    "    note_pitch = np.random.randint(min_pitch, max_pitch+1)\n",
    "    note = pretty_midi.Note(note_velocity, note_pitch, note_start, note_end)\n",
    "    piano_instr.notes.append(note)\n",
    "piano_midi.instruments.append(piano_instr)"
   ]
  },
  {
   "cell_type": "code",
   "execution_count": null,
   "metadata": {},
   "outputs": [],
   "source": [
    "# generate audio\n",
    "piano_audio = piano_midi.fluidsynth(fs=sr)[:int(sr*input_length)]\n",
    "print(len(piano_audio))\n",
    "ipd.Audio(piano_audio, rate=sr)"
   ]
  },
  {
   "cell_type": "code",
   "execution_count": null,
   "metadata": {},
   "outputs": [],
   "source": [
    "# get spectrogram from audio (training input)\n",
    "C = np.abs(librosa.cqt(piano_audio, sr=sr, hop_length=hop_length, n_bins=84))\n",
    "C = C[:, :-1]  # fix off by 1 error\n",
    "print(\"C shape: {}\".format(C.shape))\n",
    "librosa.display.specshow(librosa.amplitude_to_db(C, ref=np.max),\n",
    "                         sr=sr, x_axis='time', y_axis='cqt_note')\n",
    "plt.colorbar(format='%+2.0f dB')\n",
    "plt.title('Constant-Q power spectrum')\n",
    "plt.tight_layout()"
   ]
  },
  {
   "cell_type": "code",
   "execution_count": null,
   "metadata": {},
   "outputs": [],
   "source": [
    "# get training labels\n",
    "\n",
    "# 22050 samples/sec / 512 samples/hop = 43.06640625 hops/sec\n",
    "# units of fs: hops/sec\n",
    "fs = sr / hop_length  # sampling frequency of columns; time between column samples is 1./fs seconds\n",
    "piano_roll = piano_midi.get_piano_roll(fs=fs)\n",
    "print(piano_roll.shape)\n",
    "\n",
    "C1 = 4\n",
    "C8 = 88\n",
    "# reduce range of piano roll to match spectrogram\n",
    "piano_roll = np.transpose(piano_roll[C1:C8, :])\n",
    "# convert note velocity to binary note ON or OFF\n",
    "piano_roll = (piano_roll != 0).astype(int)\n",
    "print(piano_roll.shape)\n",
    "print(piano_roll)"
   ]
  },
  {
   "cell_type": "code",
   "execution_count": null,
   "metadata": {},
   "outputs": [],
   "source": [
    "plt.figure(figsize=(10,6))\n",
    "plt.imshow(piano_roll, aspect='auto')\n",
    "plt.colorbar()"
   ]
  },
  {
   "cell_type": "code",
   "execution_count": null,
   "metadata": {},
   "outputs": [],
   "source": []
  }
 ],
 "metadata": {
  "kernelspec": {
   "display_name": "Python 3",
   "language": "python",
   "name": "python3"
  },
  "language_info": {
   "codemirror_mode": {
    "name": "ipython",
    "version": 3
   },
   "file_extension": ".py",
   "mimetype": "text/x-python",
   "name": "python",
   "nbconvert_exporter": "python",
   "pygments_lexer": "ipython3",
   "version": "3.6.6"
  }
 },
 "nbformat": 4,
 "nbformat_minor": 2
}
