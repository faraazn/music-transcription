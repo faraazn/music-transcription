{
 "cells": [
  {
   "cell_type": "code",
   "execution_count": null,
   "metadata": {},
   "outputs": [],
   "source": [
    "# imports and parameter definitions\n",
    "import os\n",
    "import scipy\n",
    "import six\n",
    "import librosa\n",
    "import tensorflow as tf\n",
    "from protobuf import music_pb2\n",
    "from music_io import \n",
    "import pretty_midi\n",
    "\n",
    "# high tick rates in MAPS dataset\n",
    "pretty_midi.pretty_midi.MAX_TICK = 1e10\n",
    "\n",
    "FLAGS = tf.app.flags.FLAGS\n",
    "tf.app.flags.DEFINE_string('input_dir', './data/MAPS/', \n",
    "                           \"Directory of unzipped MAPS files.\")\n",
    "tf.app.flags.DEFINE_string('output_dir', './', \n",
    "                           \"Directory of output TFRecord files.\")\n",
    "tf.app.flags.DEFINE_integer('sample_rate', 16000, 'desired sample rate')\n",
    "\n",
    "# test_dirs = ['ENSTDkCl/MUS', 'ENSTDkAm/MUS']\n",
    "# train_dirs = ['AkPnBcht/MUS', 'AkPnBsdf/MUS', 'AkPnCGdD/MUS', \n",
    "#               'AkPnStgb/MUS', 'SptkBGAm/MUS', 'SptkBGCl/MUS', \n",
    "#               'StbgTGd2/MUS']\n",
    "train_dirs = ['AkPnBcht/MUS']\n",
    "test_dirs = ['ENSTDkCl/MUS']"
   ]
  },
  {
   "cell_type": "code",
   "execution_count": null,
   "metadata": {},
   "outputs": [],
   "source": [
    "def generate_train_set():\n",
    "    wav_mid_file_pairs = []\n",
    "    for directory in train_dirs:\n",
    "        wav_path = os.path.join(FLAGS.input_dir, directory)\n",
    "        wav_path = os.path.join(wav_paths, '*.wav')\n",
    "        wav_files = glob.glob(wav_path)\n",
    "        # get the corresponding midi files\n",
    "        for wav_file in wav_files:\n",
    "            base_song_name, _ = os.path.splitext(wav_file)\n",
    "            mid_file = base_song_name + '.mid'\n",
    "            wav_mid_file_pairs.append((wav_file, mid_file))\n",
    "    output_tfrecord = os.path.join(FLAGS.output_dir, \n",
    "                                   'maps_train.tfrecord')\n",
    "    \n",
    "    with tf.python_io.TFRecordWriter(output_tfrecord) as writer:\n",
    "        for wm_file_pair in wav_mid_file_pairs:\n",
    "            print(wm_file_pair)\n",
    "            wav_data = tf.gfile.Open(pair[0]).read()\n",
    "            samples = audio_io.wav_data_to_samples(wav_data, \n",
    "                                                   FLAGS.sample_rate)\n",
    "            # what is this normalization doing? \n",
    "            # norm to max abs val means what\n",
    "            samples = librosa.util.normalize(samples, norm=np.inf)\n",
    "            \n",
    "            # load the midi data\n",
    "            midi_data = tf.gfile.Open(pair[1]).read()\n",
    "            "
   ]
  }
 ],
 "metadata": {
  "kernelspec": {
   "display_name": "Python 3",
   "language": "python",
   "name": "python3"
  },
  "language_info": {
   "codemirror_mode": {
    "name": "ipython",
    "version": 3
   },
   "file_extension": ".py",
   "mimetype": "text/x-python",
   "name": "python",
   "nbconvert_exporter": "python",
   "pygments_lexer": "ipython3",
   "version": "3.6.6"
  }
 },
 "nbformat": 4,
 "nbformat_minor": 2
}
