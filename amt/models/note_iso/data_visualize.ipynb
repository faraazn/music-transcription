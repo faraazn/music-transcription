{
 "cells": [
  {
   "cell_type": "code",
   "execution_count": null,
   "metadata": {},
   "outputs": [],
   "source": [
    "import glob\n",
    "import os\n",
    "import test_util"
   ]
  },
  {
   "cell_type": "code",
   "execution_count": null,
   "metadata": {},
   "outputs": [],
   "source": [
    "# midi_root_dir = \"/home/faraaz/workspace/music-transcription/data/clean_midi/\"\n",
    "# wav_files = glob.iglob(os.path.join(midi_root_dir, '**', '*.wav'))\n",
    "\n",
    "wav_files = []\n",
    "maps_root_dir = \"/home/faraaz/workspace/music-transcription/data/MAPS/\"\n",
    "maps_dirs = [\"AkPnBcht\", \"AkPnBsdf\", \"AkPnCGdD\", \"AkPnStgb\", \"ENSTDkAm\", \n",
    "             \"ENSTDkCl\", \"SptkBGAm\", \"SptkBGCl\", \"StbgTGd2\"]\n",
    "for maps_dir in maps_dirs:\n",
    "    maps_wavs = glob.iglob(os.path.join(maps_root_dir, maps_dir, \"MUS\", '*.wav'))\n",
    "    for maps_wav in maps_wavs:\n",
    "        wav_files.append(maps_wav)\n",
    "\n",
    "mid_files = [wav_file[:-4]+\".mid\" for wav_file in wav_files]\n",
    "print(len(mid_files))\n",
    "\n",
    "sf2_path=\"/usr/share/sounds/sf2/FluidR3_GM.sf2\"\n",
    "sample_rate = 32000\n",
    "sample_duration = 2 * sample_rate\n",
    "n_fft = 2048\n",
    "batch_size = 8\n",
    "epsilon = 0.00001"
   ]
  },
  {
   "cell_type": "code",
   "execution_count": null,
   "metadata": {},
   "outputs": [],
   "source": [
    "metrics = test_util.get_metrics(mid_files)"
   ]
  },
  {
   "cell_type": "code",
   "execution_count": null,
   "metadata": {},
   "outputs": [],
   "source": [
    "for metric in metrics:\n",
    "    print(\"{}: {}\".format(metric, metrics[metric]))\n",
    "# sort instruments and print nicely\n",
    "# max and min instruments\n",
    "# min and max notes in a song\n",
    "# go back and delete pitches out of range, notes too short or too long\n",
    "# song note lengths and note lengths are the same etc"
   ]
  },
  {
   "cell_type": "code",
   "execution_count": null,
   "metadata": {},
   "outputs": [],
   "source": []
  }
 ],
 "metadata": {
  "kernelspec": {
   "display_name": "Python 3",
   "language": "python",
   "name": "python3"
  },
  "language_info": {
   "codemirror_mode": {
    "name": "ipython",
    "version": 3
   },
   "file_extension": ".py",
   "mimetype": "text/x-python",
   "name": "python",
   "nbconvert_exporter": "python",
   "pygments_lexer": "ipython3",
   "version": "3.6.7"
  }
 },
 "nbformat": 4,
 "nbformat_minor": 2
}
