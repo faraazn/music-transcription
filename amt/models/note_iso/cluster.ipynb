{
 "cells": [
  {
   "cell_type": "code",
   "execution_count": 1,
   "metadata": {},
   "outputs": [
    {
     "name": "stderr",
     "output_type": "stream",
     "text": [
      "Using TensorFlow backend.\n"
     ]
    }
   ],
   "source": [
    "import keras\n",
    "import numpy as np\n",
    "import pretty_midi\n",
    "import librosa\n",
    "import glob\n",
    "import os\n",
    "import matplotlib.pyplot as plt\n",
    "import librosa.display\n",
    "import IPython.display as ipd\n",
    "from train_util import NoteIsoSequence\n",
    "from model import get_autoencoder, get_vae, get_gan\n",
    "from train_util import program_map, one_hot_map\n",
    "from keras import backend as K\n",
    "import time\n",
    "import sklearn\n",
    "from hparams import *\n",
    "import random\n",
    "\n",
    "# synthesize without label and then add back for train?\n",
    "# loud not at the end to force normalization?"
   ]
  },
  {
   "cell_type": "code",
   "execution_count": 2,
   "metadata": {},
   "outputs": [
    {
     "name": "stdout",
     "output_type": "stream",
     "text": [
      "/home/faraaz/workspace/music-transcription/data/clean_midi/Redbone/Come and Get Your Love.mid\n"
     ]
    }
   ],
   "source": [
    "midi_root_dir = \"/home/faraaz/workspace/music-transcription/data/clean_midi/\"\n",
    "midi_files = glob.iglob(os.path.join(midi_root_dir, '**', '*.mid'))\n",
    "midi_file = next(midi_files)\n",
    "print(midi_file)"
   ]
  },
  {
   "cell_type": "code",
   "execution_count": 3,
   "metadata": {},
   "outputs": [
    {
     "name": "stdout",
     "output_type": "stream",
     "text": [
      "loading model\n"
     ]
    },
    {
     "name": "stderr",
     "output_type": "stream",
     "text": [
      "/home/faraaz/anaconda3/envs/urop/lib/python3.6/site-packages/keras/engine/saving.py:292: UserWarning: No training configuration found in save file: the model was *not* compiled. Compile it manually.\n",
      "  warnings.warn('No training configuration found in save file: '\n"
     ]
    }
   ],
   "source": [
    "print(\"loading model\")\n",
    "model_type = 'ae+'\n",
    "\n",
    "if model_type == 'ae':\n",
    "    encoder = keras.models.load_model(\"ae/encoder-test.h\")\n",
    "    decoder = keras.models.load_model(\"ae/decoder-test.h\")\n",
    "    _, _, autoencoder = get_autoencoder(encoder, decoder)\n",
    "if model_type == 'ae+':\n",
    "    encoder = keras.models.load_model(\"ae+/encoder-5.h\")\n",
    "    classifier = keras.models.load_model(\"ae+/classifier-5.h\")\n",
    "#     decoder = keras.models.load_model(\"ae/decoder-test.h\")\n",
    "#     _, _, autoencoder = get_autoencoder(encoder, decoder)\n",
    "elif model_type == 'vae':\n",
    "    encoder = keras.models.load_model(\"vae/encoder-1.h\")\n",
    "    decoder = keras.models.load_model(\"vae/decoder-1.h\")\n",
    "    encoder, decoder, autoencoder, _ = get_vae(encoder, decoder)\n",
    "#     autoencoder = keras.models.load_model('vae/vae-0.h', custom_objects={'my_vae_loss': my_vae_loss})\n",
    "elif model_type == 'gan':\n",
    "    autoencoder = keras.models.load_model('gan/ae-0.h')\n",
    "else:\n",
    "    assert False"
   ]
  },
  {
   "cell_type": "code",
   "execution_count": 4,
   "metadata": {},
   "outputs": [],
   "source": [
    "test_batch_size = 4\n",
    "test_generator = NoteIsoSequence(train_wav_files, sample_duration=sample_duration, \n",
    "                                 sample_rate=sample_rate, n_fft=n_fft, instr_indices=[],\n",
    "                                 note_indices=[], song_indices=[], batch_size=test_batch_size)"
   ]
  },
  {
   "cell_type": "code",
   "execution_count": 5,
   "metadata": {},
   "outputs": [
    {
     "name": "stdout",
     "output_type": "stream",
     "text": [
      "/home/faraaz/workspace/music-transcription/data/clean_midi/Redbone/Come and Get Your Love.mid\n",
      "0. Instrument(program=73, is_drum=False, name=\"MELODY\")\n",
      "   Note(start=181.762585, end=181.893536, pitch=62, velocity=96)\n",
      "1. Instrument(program=0, is_drum=False, name=\"A.PIANO 1\")\n",
      "   Note(start=260.338788, end=261.392343, pitch=62, velocity=96)\n",
      "2. Instrument(program=0, is_drum=False, name=\"A.PIANO 1\")\n",
      "   Note(start=259.761415, end=260.297122, pitch=76, velocity=96)\n",
      "3. Instrument(program=73, is_drum=False, name=\"MELODY\")\n",
      "   Note(start=161.768838, end=162.268830, pitch=62, velocity=96)\n"
     ]
    }
   ],
   "source": [
    "test_i = np.random.randint(len(test_generator))\n",
    "test_song_indices = test_generator.song_indices[test_i*test_batch_size:(test_i+1)*test_batch_size]\n",
    "test_instr_indices = test_generator.instr_indices[test_i*test_batch_size:(test_i+1)*test_batch_size]\n",
    "test_note_indices = test_generator.note_indices[test_i*test_batch_size:(test_i+1)*test_batch_size]\n",
    "\n",
    "song_index = test_song_indices[0]\n",
    "song = train_wav_files[song_index]\n",
    "song = song[:-4] + \".mid\"\n",
    "print(song)\n",
    "for i in range(test_batch_size):\n",
    "    instr_index = test_instr_indices[i]\n",
    "    note_index = test_note_indices[i]\n",
    "    \n",
    "    pm = pretty_midi.PrettyMIDI(song)\n",
    "    instrument = pm.instruments[instr_index]\n",
    "    note = instrument.notes[note_index]\n",
    "    print(\"{}. {}\".format(i, instrument))\n",
    "    print(\"   {}\".format(note))"
   ]
  },
  {
   "cell_type": "code",
   "execution_count": 6,
   "metadata": {},
   "outputs": [
    {
     "name": "stdout",
     "output_type": "stream",
     "text": [
      "predicting embeddings...\n",
      "4\n",
      "(4, 64)\n",
      "4\n",
      "(4, 128)\n"
     ]
    }
   ],
   "source": [
    "print(\"predicting embeddings...\")\n",
    "embeddings = encoder.predict_generator(test_generator, steps=1)\n",
    "print(len(embeddings))\n",
    "print(embeddings.shape)\n",
    "# predicted_decode = decoder.predict(predicted_encode)\n",
    "# print(predicted_decode.shape)\n",
    "# predicted_ae = autoencoder.predict_generator(test_generator, steps=1)\n",
    "# print(predicted_ae.shape)\n",
    "# assert np.all(predicted_decode == predicted_ae)\n",
    "instr_preds = classifier.predict_generator(test_generator, steps=1)\n",
    "print(len(instr_preds))\n",
    "print(instr_preds.shape)"
   ]
  },
  {
   "cell_type": "code",
   "execution_count": 7,
   "metadata": {},
   "outputs": [
    {
     "name": "stdout",
     "output_type": "stream",
     "text": [
      "0. Instrument(program=73, is_drum=False, name=\"MELODY\")\n",
      "   Note(start=181.762585, end=181.893536, pitch=62, velocity=96)\n",
      "   cluster_id 0\n",
      "   instr_pred 0\n",
      "1. Instrument(program=0, is_drum=False, name=\"A.PIANO 1\")\n",
      "   Note(start=260.338788, end=261.392343, pitch=62, velocity=96)\n",
      "   cluster_id 1\n",
      "   instr_pred 0\n",
      "2. Instrument(program=0, is_drum=False, name=\"A.PIANO 1\")\n",
      "   Note(start=259.761415, end=260.297122, pitch=76, velocity=96)\n",
      "   cluster_id 1\n",
      "   instr_pred 0\n",
      "3. Instrument(program=73, is_drum=False, name=\"MELODY\")\n",
      "   Note(start=161.768838, end=162.268830, pitch=62, velocity=96)\n",
      "   cluster_id 0\n",
      "   instr_pred 0\n"
     ]
    }
   ],
   "source": [
    "n_clusters = 2\n",
    "kmeans = sklearn.cluster.KMeans(n_clusters=n_clusters)\n",
    "embed_clusters = kmeans.fit_predict(embeddings)\n",
    "for i in range(test_batch_size):\n",
    "    cluster_id = embed_clusters[i]\n",
    "    instr_pred = np.argmax(instr_preds[i])\n",
    "    instr_index = test_instr_indices[i]\n",
    "    note_index = test_note_indices[i]\n",
    "    \n",
    "    pm = pretty_midi.PrettyMIDI(song)\n",
    "    instrument = pm.instruments[instr_index]\n",
    "    note = instrument.notes[note_index]\n",
    "    print(\"{}. {}\".format(i, instrument))\n",
    "    print(\"   {}\".format(note))\n",
    "    print(\"   cluster_id {}\".format(cluster_id))\n",
    "    print(\"   instr_pred {}\".format(instr_pred))\n",
    "    "
   ]
  },
  {
   "cell_type": "code",
   "execution_count": 8,
   "metadata": {},
   "outputs": [],
   "source": [
    "test_batch_size = 4\n",
    "test_generator = NoteIsoSequence(train_wav_files, sample_duration=sample_duration, \n",
    "                                 sample_rate=sample_rate, n_fft=n_fft, instr_indices=[],\n",
    "                                 note_indices=[], song_indices=[], batch_size=test_batch_size)\n",
    "test_song_indices = test_generator.song_indices\n",
    "test_instr_indices = test_generator.instr_indices\n",
    "test_note_indices = test_generator.note_indices\n",
    "test_instr_labels = np.array(test_generator.instr_labels)"
   ]
  },
  {
   "cell_type": "code",
   "execution_count": 9,
   "metadata": {},
   "outputs": [
    {
     "name": "stdout",
     "output_type": "stream",
     "text": [
      "predicting embeddings...\n",
      "63.08727526664734s\n",
      "3136\n",
      "(3136, 64)\n",
      "63.29999089241028s\n",
      "3136\n",
      "(3136, 128)\n"
     ]
    }
   ],
   "source": [
    "print(\"predicting embeddings...\")\n",
    "start = time.time()\n",
    "embeddings = encoder.predict_generator(test_generator)\n",
    "print(\"{}s\".format(time.time()-start))\n",
    "print(len(embeddings))\n",
    "print(embeddings.shape)\n",
    "start = time.time()\n",
    "instr_preds = classifier.predict_generator(test_generator)\n",
    "print(\"{}s\".format(time.time()-start))\n",
    "print(len(instr_preds))\n",
    "print(instr_preds.shape)"
   ]
  },
  {
   "cell_type": "code",
   "execution_count": 10,
   "metadata": {},
   "outputs": [
    {
     "name": "stdout",
     "output_type": "stream",
     "text": [
      "0.957130605612955\n"
     ]
    }
   ],
   "source": [
    "n_clusters = 3\n",
    "kmeans = sklearn.cluster.KMeans(n_clusters=n_clusters)\n",
    "embed_clusters = kmeans.fit_predict(embeddings)\n",
    "score = sklearn.metrics.adjusted_rand_score(test_instr_indices, embed_clusters)  \n",
    "print(score)"
   ]
  },
  {
   "cell_type": "code",
   "execution_count": 11,
   "metadata": {},
   "outputs": [
    {
     "name": "stdout",
     "output_type": "stream",
     "text": [
      "0.9723407527489492\n"
     ]
    },
    {
     "name": "stderr",
     "output_type": "stream",
     "text": [
      "/home/faraaz/anaconda3/envs/urop/lib/python3.6/site-packages/sklearn/cluster/k_means_.py:968: ConvergenceWarning: Number of distinct clusters (2) found smaller than n_clusters (3). Possibly due to duplicate points in X.\n",
      "  return_n_iter=True)\n"
     ]
    }
   ],
   "source": [
    "n_clusters = 3\n",
    "kmeans = sklearn.cluster.KMeans(n_clusters=n_clusters)\n",
    "embed_clusters = kmeans.fit_predict(instr_preds)\n",
    "score = sklearn.metrics.adjusted_rand_score(test_instr_indices, embed_clusters)  \n",
    "print(score)"
   ]
  },
  {
   "cell_type": "code",
   "execution_count": 16,
   "metadata": {},
   "outputs": [
    {
     "name": "stdout",
     "output_type": "stream",
     "text": [
      "correct_preds 3028\n",
      "total labels 3136\n",
      "%correct 0.9655612244897959\n",
      "677\n",
      "677\n",
      "[ 0  0  0 ... 73  0  0]\n"
     ]
    }
   ],
   "source": [
    "label_preds = np.argmax(instr_preds, axis=1)\n",
    "correct_preds = np.sum(np.count_nonzero(label_preds == test_instr_labels))\n",
    "print(\"correct_preds {}\".format(correct_preds))\n",
    "print(\"total labels {}\".format(len(test_instr_labels)))\n",
    "print(\"%correct {}\".format(correct_preds / len(test_instr_labels)))\n",
    "print(np.count_nonzero(np.argmax(instr_preds, axis=1)))\n",
    "print(np.count_nonzero(test_instr_labels))\n",
    "print(np.argmax(instr_preds, axis=1))"
   ]
  },
  {
   "cell_type": "code",
   "execution_count": 17,
   "metadata": {},
   "outputs": [
    {
     "name": "stdout",
     "output_type": "stream",
     "text": [
      "0. 2459\n",
      "1. 677\n",
      "2. 0\n"
     ]
    }
   ],
   "source": [
    "for i in range(n_clusters):\n",
    "    print(\"{}. {}\".format(i, np.sum(np.count_nonzero(embed_clusters == i))))"
   ]
  },
  {
   "cell_type": "code",
   "execution_count": 19,
   "metadata": {},
   "outputs": [
    {
     "name": "stdout",
     "output_type": "stream",
     "text": [
      "0. 2459\n",
      "26. 108\n",
      "73. 569\n"
     ]
    }
   ],
   "source": [
    "for i in range(128):\n",
    "    count = np.sum(np.count_nonzero(test_instr_labels == i))\n",
    "    if count != 0:\n",
    "        print(\"{}. {}\".format(i, count))"
   ]
  },
  {
   "cell_type": "code",
   "execution_count": null,
   "metadata": {},
   "outputs": [],
   "source": []
  }
 ],
 "metadata": {
  "kernelspec": {
   "display_name": "Python 3",
   "language": "python",
   "name": "python3"
  },
  "language_info": {
   "codemirror_mode": {
    "name": "ipython",
    "version": 3
   },
   "file_extension": ".py",
   "mimetype": "text/x-python",
   "name": "python",
   "nbconvert_exporter": "python",
   "pygments_lexer": "ipython3",
   "version": "3.6.7"
  }
 },
 "nbformat": 4,
 "nbformat_minor": 2
}
