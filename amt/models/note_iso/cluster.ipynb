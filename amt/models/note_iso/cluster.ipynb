{
 "cells": [
  {
   "cell_type": "code",
   "execution_count": 1,
   "metadata": {},
   "outputs": [
    {
     "name": "stderr",
     "output_type": "stream",
     "text": [
      "Using TensorFlow backend.\n"
     ]
    }
   ],
   "source": [
    "import keras\n",
    "import numpy as np\n",
    "import pretty_midi\n",
    "import librosa\n",
    "import glob\n",
    "import os\n",
    "import matplotlib.pyplot as plt\n",
    "import librosa.display\n",
    "import IPython.display as ipd\n",
    "from train_util import NoteIsoSequence\n",
    "from model import get_autoencoder, get_vae, get_gan\n",
    "from train_util import program_map, one_hot_map\n",
    "from keras import backend as K\n",
    "import time\n",
    "import sklearn\n",
    "from hparams import *\n",
    "import random\n",
    "\n",
    "# synthesize without label and then add back for train?\n",
    "# loud not at the end to force normalization?"
   ]
  },
  {
   "cell_type": "code",
   "execution_count": 2,
   "metadata": {},
   "outputs": [
    {
     "name": "stdout",
     "output_type": "stream",
     "text": [
      "/home/faraaz/workspace/music-transcription/data/clean_midi/Redbone/Come and Get Your Love.mid\n",
      "/home/faraaz/workspace/music-transcription/data/clean_midi/The Moody Blues/The Other Side of Life.mid\n",
      "3\n",
      "204: Instrument(program=17, is_drum=False, name=\"Organ\")\n",
      "187: Instrument(program=30, is_drum=False, name=\"Guitar3\")\n",
      "3: Instrument(program=107, is_drum=False, name=\"FX2\")\n"
     ]
    }
   ],
   "source": [
    "midi_root_dir = \"/home/faraaz/workspace/music-transcription/data/clean_midi/\"\n",
    "midi_files = glob.iglob(os.path.join(midi_root_dir, '**', '*.mid'))\n",
    "midi_file = next(midi_files)\n",
    "print(midi_file)\n",
    "test_midi_file = wav_files[109][:-4] + \".mid\"\n",
    "print(test_midi_file)\n",
    "pm = pretty_midi.PrettyMIDI(test_midi_file)\n",
    "n_instruments = len(pm.instruments)\n",
    "print(n_instruments)\n",
    "for instr in pm.instruments:\n",
    "    print(\"{}: {}\".format(len(instr.notes), instr))\n",
    "test_wav_files = [test_midi_file[:-4]+\".wav\"]"
   ]
  },
  {
   "cell_type": "code",
   "execution_count": 3,
   "metadata": {},
   "outputs": [
    {
     "name": "stdout",
     "output_type": "stream",
     "text": [
      "loading model\n"
     ]
    },
    {
     "name": "stderr",
     "output_type": "stream",
     "text": [
      "/home/faraaz/anaconda3/envs/urop/lib/python3.6/site-packages/keras/engine/saving.py:292: UserWarning: No training configuration found in save file: the model was *not* compiled. Compile it manually.\n",
      "  warnings.warn('No training configuration found in save file: '\n"
     ]
    }
   ],
   "source": [
    "print(\"loading model\")\n",
    "model_type = 'ae'\n",
    "\n",
    "if model_type == 'ae':\n",
    "    encoder = keras.models.load_model(\"ae/encoder-test2.h\")\n",
    "    decoder = keras.models.load_model(\"ae/decoder-test2.h\")\n",
    "    _, _, autoencoder = get_autoencoder(encoder, decoder)\n",
    "elif model_type == 'ae+':\n",
    "    encoder = keras.models.load_model(\"ae+/encoder-5.h\")\n",
    "    classifier = keras.models.load_model(\"ae+/classifier-5.h\")\n",
    "elif model_type == 'vae':\n",
    "    encoder = keras.models.load_model(\"vae/encoder-test2.h\")\n",
    "    decoder = keras.models.load_model(\"vae/decoder-test2.h\")\n",
    "    encoder, decoder, autoencoder, _ = get_vae(encoder, decoder)\n",
    "#     autoencoder = keras.models.load_model('vae/vae-0.h', custom_objects={'my_vae_loss': my_vae_loss})\n",
    "elif model_type == 'gan':\n",
    "    autoencoder = keras.models.load_model('gan/ae-0.h')\n",
    "else:\n",
    "    assert False"
   ]
  },
  {
   "cell_type": "code",
   "execution_count": 4,
   "metadata": {},
   "outputs": [],
   "source": [
    "test_batch_size = 1\n",
    "test_generator = NoteIsoSequence(test_wav_files, sample_duration=sample_duration, \n",
    "                                 sample_rate=sample_rate, n_fft=n_fft, instr_indices=[],\n",
    "                                 note_indices=[], song_indices=[], batch_size=test_batch_size)\n",
    "test_song_indices = test_generator.song_indices\n",
    "test_instr_indices = test_generator.instr_indices\n",
    "test_note_indices = test_generator.note_indices\n",
    "test_instr_labels = np.array(test_generator.instr_labels)\n",
    "test_pitch_labels = np.array(test_generator.pitch_labels)"
   ]
  },
  {
   "cell_type": "code",
   "execution_count": 5,
   "metadata": {},
   "outputs": [
    {
     "name": "stdout",
     "output_type": "stream",
     "text": [
      "predicting embeddings...\n",
      "20.759594440460205s\n",
      "394\n",
      "(394, 2)\n"
     ]
    }
   ],
   "source": [
    "print(\"predicting embeddings...\")\n",
    "start = time.time()\n",
    "if model_type == 'vae':\n",
    "    means, variances, embeddings = encoder.predict_generator(test_generator)\n",
    "else:\n",
    "    embeddings = encoder.predict_generator(test_generator)\n",
    "print(\"{}s\".format(time.time()-start))\n",
    "print(len(embeddings))\n",
    "print(embeddings.shape)\n",
    "start = time.time()\n",
    "# instr_preds = classifier.predict_generator(test_generator)\n",
    "# print(\"{}s\".format(time.time()-start))\n",
    "# print(len(instr_preds))\n",
    "# print(instr_preds.shape)"
   ]
  },
  {
   "cell_type": "code",
   "execution_count": 6,
   "metadata": {},
   "outputs": [
    {
     "name": "stdout",
     "output_type": "stream",
     "text": [
      "0.3591776069017585\n"
     ]
    }
   ],
   "source": [
    "n_clusters = n_instruments\n",
    "kmeans = sklearn.cluster.KMeans(n_clusters=n_clusters)\n",
    "embed_clusters = kmeans.fit_predict(embeddings)\n",
    "score = sklearn.metrics.adjusted_rand_score(test_instr_indices, embed_clusters)  \n",
    "print(score)"
   ]
  },
  {
   "cell_type": "code",
   "execution_count": 7,
   "metadata": {},
   "outputs": [
    {
     "name": "stdout",
     "output_type": "stream",
     "text": [
      "0. 118\n",
      "1. 112\n",
      "2. 164\n"
     ]
    }
   ],
   "source": [
    "for i in range(n_clusters):\n",
    "    print(\"{}. {}\".format(i, np.sum(np.count_nonzero(embed_clusters == i))))"
   ]
  },
  {
   "cell_type": "code",
   "execution_count": 8,
   "metadata": {},
   "outputs": [
    {
     "name": "stdout",
     "output_type": "stream",
     "text": [
      "17. 204\n",
      "30. 187\n",
      "107. 3\n"
     ]
    }
   ],
   "source": [
    "for i in range(128):\n",
    "    count = np.sum(np.count_nonzero(test_instr_labels == i))\n",
    "    if count != 0:\n",
    "        print(\"{}. {}\".format(i, count))"
   ]
  },
  {
   "cell_type": "code",
   "execution_count": 9,
   "metadata": {},
   "outputs": [
    {
     "name": "stdout",
     "output_type": "stream",
     "text": [
      "[ 0.  0.  0.  0.  0.  0.  0.  0.  0.  0.  0.  0.  0.  0.  0.  0.  0. 61.\n",
      "  0.  0.  0.  0.  0.  0.  0.  0.  0.  0.  0.  0. 57.  0.  0.  0.  0.  0.\n",
      "  0.  0.  0.  0.  0.  0.  0.  0.  0.  0.  0.  0.  0.  0.  0.  0.  0.  0.\n",
      "  0.  0.  0.  0.  0.  0.  0.  0.  0.  0.  0.  0.  0.  0.  0.  0.  0.  0.\n",
      "  0.  0.  0.  0.  0.  0.  0.  0.  0.  0.  0.  0.  0.  0.  0.  0.  0.  0.\n",
      "  0.  0.  0.  0.  0.  0.  0.  0.  0.  0.  0.  0.  0.  0.  0.  0.  0.  0.\n",
      "  0.  0.  0.  0.  0.  0.  0.  0.  0.  0.  0.  0.  0.  0.  0.  0.  0.  0.\n",
      "  0.  0.]\n",
      "[  0.   0.   0.   0.   0.   0.   0.   0.   0.   0.   0.   0.   0.   0.\n",
      "   0.   0.   0.   0.   0.   0.   0.   0.   0.   0.   0.   0.   0.   0.\n",
      "   0.   0. 112.   0.   0.   0.   0.   0.   0.   0.   0.   0.   0.   0.\n",
      "   0.   0.   0.   0.   0.   0.   0.   0.   0.   0.   0.   0.   0.   0.\n",
      "   0.   0.   0.   0.   0.   0.   0.   0.   0.   0.   0.   0.   0.   0.\n",
      "   0.   0.   0.   0.   0.   0.   0.   0.   0.   0.   0.   0.   0.   0.\n",
      "   0.   0.   0.   0.   0.   0.   0.   0.   0.   0.   0.   0.   0.   0.\n",
      "   0.   0.   0.   0.   0.   0.   0.   0.   0.   0.   0.   0.   0.   0.\n",
      "   0.   0.   0.   0.   0.   0.   0.   0.   0.   0.   0.   0.   0.   0.\n",
      "   0.   0.]\n",
      "[  0.   0.   0.   0.   0.   0.   0.   0.   0.   0.   0.   0.   0.   0.\n",
      "   0.   0.   0. 143.   0.   0.   0.   0.   0.   0.   0.   0.   0.   0.\n",
      "   0.   0.  18.   0.   0.   0.   0.   0.   0.   0.   0.   0.   0.   0.\n",
      "   0.   0.   0.   0.   0.   0.   0.   0.   0.   0.   0.   0.   0.   0.\n",
      "   0.   0.   0.   0.   0.   0.   0.   0.   0.   0.   0.   0.   0.   0.\n",
      "   0.   0.   0.   0.   0.   0.   0.   0.   0.   0.   0.   0.   0.   0.\n",
      "   0.   0.   0.   0.   0.   0.   0.   0.   0.   0.   0.   0.   0.   0.\n",
      "   0.   0.   0.   0.   0.   0.   0.   0.   0.   3.   0.   0.   0.   0.\n",
      "   0.   0.   0.   0.   0.   0.   0.   0.   0.   0.   0.   0.   0.   0.\n",
      "   0.   0.]\n"
     ]
    }
   ],
   "source": [
    "# confusion matrix on instrument label\n",
    "confusion_matrix = np.zeros((n_clusters, 128))\n",
    "for i in range(len(test_instr_labels)):\n",
    "    instr_label = test_instr_labels[i]\n",
    "    embed_cluster = embed_clusters[i]\n",
    "    confusion_matrix[embed_cluster][instr_label] += 1\n",
    "\n",
    "for i in range(len(confusion_matrix)):\n",
    "    print(confusion_matrix[i])"
   ]
  },
  {
   "cell_type": "code",
   "execution_count": 10,
   "metadata": {},
   "outputs": [
    {
     "name": "stdout",
     "output_type": "stream",
     "text": [
      "[0. 0. 0.]\n",
      "[0. 0. 0.]\n",
      "[0. 0. 0.]\n",
      "[0. 0. 0.]\n",
      "[0. 0. 0.]\n",
      "[0. 0. 0.]\n",
      "[0. 0. 0.]\n",
      "[0. 0. 0.]\n",
      "[0. 0. 0.]\n",
      "[0. 0. 0.]\n",
      "[0. 0. 0.]\n",
      "[0. 0. 0.]\n",
      "[0. 0. 0.]\n",
      "[0. 0. 0.]\n",
      "[0. 0. 0.]\n",
      "[0. 0. 0.]\n",
      "[0. 0. 0.]\n",
      "[0. 0. 0.]\n",
      "[0. 0. 0.]\n",
      "[0. 0. 0.]\n",
      "[0. 0. 0.]\n",
      "[0. 0. 0.]\n",
      "[0. 0. 0.]\n",
      "[0. 0. 0.]\n",
      "[0. 0. 0.]\n",
      "[0. 0. 0.]\n",
      "[0. 0. 0.]\n",
      "[0. 0. 0.]\n",
      "[0. 0. 0.]\n",
      "[0. 0. 0.]\n",
      "[0. 0. 0.]\n",
      "[0. 0. 0.]\n",
      "[0. 0. 0.]\n",
      "[0. 0. 0.]\n",
      "[0. 0. 0.]\n",
      "[0. 0. 0.]\n",
      "[0. 0. 0.]\n",
      "[0. 0. 0.]\n",
      "[0. 0. 0.]\n",
      "[0. 0. 0.]\n",
      "[56.  0.  0.]\n",
      "[ 0. 24.  0.]\n",
      "[0. 0. 0.]\n",
      "[ 0. 20.  0.]\n",
      "[0. 0. 0.]\n",
      "[ 0. 44.  0.]\n",
      "[0. 0. 0.]\n",
      "[0. 0. 0.]\n",
      "[0. 0. 0.]\n",
      "[0. 0. 0.]\n",
      "[0. 0. 0.]\n",
      "[0. 0. 0.]\n",
      "[0. 0. 0.]\n",
      "[0. 0. 0.]\n",
      "[0. 0. 0.]\n",
      "[3. 0. 0.]\n",
      "[0. 0. 0.]\n",
      "[0. 0. 0.]\n",
      "[0. 0. 0.]\n",
      "[5. 0. 0.]\n",
      "[7. 0. 0.]\n",
      "[0. 0. 0.]\n",
      "[9. 0. 0.]\n",
      "[0. 0. 0.]\n",
      "[5. 0. 0.]\n",
      "[0. 0. 3.]\n",
      "[21.  0.  0.]\n",
      "[ 0.  3. 24.]\n",
      "[0. 0. 0.]\n",
      "[ 0.  3. 29.]\n",
      "[0. 0. 0.]\n",
      "[ 0.  5. 31.]\n",
      "[ 0.  0. 13.]\n",
      "[0. 0. 0.]\n",
      "[ 0.  8. 11.]\n",
      "[0. 0. 0.]\n",
      "[ 0.  0. 39.]\n",
      "[0. 0. 0.]\n",
      "[0. 0. 3.]\n",
      "[12.  5.  0.]\n",
      "[0. 0. 0.]\n",
      "[0. 0. 3.]\n",
      "[0. 0. 0.]\n",
      "[0. 0. 4.]\n",
      "[0. 0. 0.]\n",
      "[0. 0. 0.]\n",
      "[0. 0. 4.]\n",
      "[0. 0. 0.]\n",
      "[0. 0. 0.]\n",
      "[0. 0. 0.]\n",
      "[0. 0. 0.]\n",
      "[0. 0. 0.]\n",
      "[0. 0. 0.]\n",
      "[0. 0. 0.]\n",
      "[0. 0. 0.]\n",
      "[0. 0. 0.]\n",
      "[0. 0. 0.]\n",
      "[0. 0. 0.]\n",
      "[0. 0. 0.]\n",
      "[0. 0. 0.]\n",
      "[0. 0. 0.]\n",
      "[0. 0. 0.]\n",
      "[0. 0. 0.]\n",
      "[0. 0. 0.]\n",
      "[0. 0. 0.]\n",
      "[0. 0. 0.]\n",
      "[0. 0. 0.]\n",
      "[0. 0. 0.]\n",
      "[0. 0. 0.]\n",
      "[0. 0. 0.]\n",
      "[0. 0. 0.]\n",
      "[0. 0. 0.]\n",
      "[0. 0. 0.]\n",
      "[0. 0. 0.]\n",
      "[0. 0. 0.]\n",
      "[0. 0. 0.]\n",
      "[0. 0. 0.]\n",
      "[0. 0. 0.]\n",
      "[0. 0. 0.]\n",
      "[0. 0. 0.]\n",
      "[0. 0. 0.]\n",
      "[0. 0. 0.]\n",
      "[0. 0. 0.]\n",
      "[0. 0. 0.]\n",
      "[0. 0. 0.]\n",
      "[0. 0. 0.]\n",
      "[0. 0. 0.]\n",
      "[0. 0. 0.]\n"
     ]
    }
   ],
   "source": [
    "# confusion matrix on pitch label\n",
    "confusion_matrix = np.zeros((128, n_clusters))\n",
    "for i in range(len(test_instr_labels)):\n",
    "    pitch_label = test_pitch_labels[i]\n",
    "    embed_cluster = embed_clusters[i]\n",
    "    confusion_matrix[pitch_label][embed_cluster] += 1\n",
    "\n",
    "for i in range(len(confusion_matrix)):\n",
    "    print(confusion_matrix[i])"
   ]
  },
  {
   "cell_type": "code",
   "execution_count": 11,
   "metadata": {},
   "outputs": [
    {
     "name": "stdout",
     "output_type": "stream",
     "text": [
      "388\n",
      "(64, 64)\n",
      "sample_instr 17\n",
      "sample_pitch 71\n",
      "sample_cluster 2\n",
      "sample_embed [0.10608246 0.15385711]\n",
      "(64, 64)\n"
     ]
    },
    {
     "data": {
      "image/png": "[encoded data removed]",
      "text/plain": [
       "<Figure size 720x288 with 2 Axes>"
      ]
     },
     "metadata": {
      "needs_background": "light"
     },
     "output_type": "display_data"
    },
    {
     "data": {
      "image/png": "[encoded data removed]",
      "text/plain": [
       "<Figure size 720x288 with 2 Axes>"
      ]
     },
     "metadata": {
      "needs_background": "light"
     },
     "output_type": "display_data"
    }
   ],
   "source": [
    "sample_index = np.random.randint(len(test_instr_labels))\n",
    "iso_mag = test_generator[sample_index][0][0][:,:,0]\n",
    "print(sample_index)\n",
    "print(iso_mag.shape)\n",
    "\n",
    "sample_instr = test_instr_labels[sample_index]\n",
    "sample_pitch = test_pitch_labels[sample_index]\n",
    "sample_embed = embeddings[sample_index]\n",
    "sample_cluster = embed_clusters[sample_index]\n",
    "instr_index = test_generator.instr_indices[sample_index]\n",
    "note_index = test_generator.note_indices[sample_index]\n",
    "song_index = test_generator.song_indices[sample_index]\n",
    "\n",
    "print(\"sample_instr {}\".format(sample_instr))\n",
    "print(\"sample_pitch {}\".format(sample_pitch))\n",
    "print(\"sample_cluster {}\".format(sample_cluster))\n",
    "print(\"sample_embed {}\".format(sample_embed))\n",
    "\n",
    "plt.figure(figsize=(10, 4))\n",
    "librosa.display.specshow(iso_mag, y_axis='mel', fmax=8000, x_axis='time')\n",
    "plt.colorbar(format='%+2.0f dB')\n",
    "plt.title('truth')\n",
    "plt.tight_layout()\n",
    "\n",
    "small_test_generator = NoteIsoSequence(\n",
    "    train_wav_files, sample_duration=sample_duration, sample_rate=sample_rate, \n",
    "    n_fft=n_fft, instr_indices=[instr_index], note_indices=[note_index], \n",
    "    song_indices=[song_index], batch_size=1)\n",
    "pred_iso_mag = autoencoder.predict_generator(small_test_generator, steps=1)\n",
    "pred_iso_mag = pred_iso_mag[0][:,:,0]\n",
    "print(pred_iso_mag.shape)\n",
    "\n",
    "plt.figure(figsize=(10, 4))\n",
    "librosa.display.specshow(pred_iso_mag, y_axis='mel', fmax=8000, x_axis='time')\n",
    "plt.colorbar(format='%+2.0f dB')\n",
    "plt.title('predicted')\n",
    "plt.tight_layout()"
   ]
  },
  {
   "cell_type": "code",
   "execution_count": 12,
   "metadata": {},
   "outputs": [
    {
     "data": {
      "image/png": "[encoded data removed]",
      "text/plain": [
       "<Figure size 432x288 with 1 Axes>"
      ]
     },
     "metadata": {
      "needs_background": "light"
     },
     "output_type": "display_data"
    }
   ],
   "source": [
    "plt.scatter(embeddings[:,0], embeddings[:,1], c=test_instr_labels)\n",
    "if model_type == \"vae\":\n",
    "    plt.scatter(means[:,0], means[:,1], c=test_instr_labels)\n",
    "    plt.scatter(variances[:,0], variances[:,1], c=test_instr_labels)"
   ]
  },
  {
   "cell_type": "code",
   "execution_count": 13,
   "metadata": {},
   "outputs": [
    {
     "data": {
      "image/png": "[encoded data removed]",
      "text/plain": [
       "<Figure size 432x288 with 1 Axes>"
      ]
     },
     "metadata": {
      "needs_background": "light"
     },
     "output_type": "display_data"
    }
   ],
   "source": [
    "plt.scatter(embeddings[:,0], embeddings[:,1], c=embed_clusters)\n",
    "if model_type == \"vae\":\n",
    "    plt.scatter(means[:,0], means[:,1], c=embed_clusters)\n",
    "    plt.scatter(variances[:,0], variances[:,1], c=embed_clusters)"
   ]
  },
  {
   "cell_type": "code",
   "execution_count": 14,
   "metadata": {},
   "outputs": [
    {
     "data": {
      "image/png": "[encoded data removed]",
      "text/plain": [
       "<Figure size 432x288 with 1 Axes>"
      ]
     },
     "metadata": {
      "needs_background": "light"
     },
     "output_type": "display_data"
    }
   ],
   "source": [
    "plt.scatter(embeddings[:,0], embeddings[:,1], c=test_pitch_labels)\n",
    "if model_type == \"vae\":\n",
    "    plt.scatter(means[:,0], means[:,1], c=test_pitch_labels)\n",
    "    plt.scatter(variances[:,0], variances[:,1], c=test_pitch_labels)"
   ]
  },
  {
   "cell_type": "code",
   "execution_count": 15,
   "metadata": {},
   "outputs": [
    {
     "name": "stdout",
     "output_type": "stream",
     "text": [
      "0.0\n"
     ]
    }
   ],
   "source": [
    "n_clusters = n_instruments\n",
    "hierarchical = sklearn.cluster.AgglomerativeClustering(n_clusters=None, distance_threshold=1.4)\n",
    "embed_clusters = hierarchical.fit_predict(embeddings)\n",
    "score = sklearn.metrics.adjusted_rand_score(test_instr_indices, embed_clusters)  \n",
    "print(score)"
   ]
  },
  {
   "cell_type": "code",
   "execution_count": 16,
   "metadata": {},
   "outputs": [
    {
     "data": {
      "image/png": "[encoded data removed]",
      "text/plain": [
       "<Figure size 432x288 with 1 Axes>"
      ]
     },
     "metadata": {
      "needs_background": "light"
     },
     "output_type": "display_data"
    }
   ],
   "source": [
    "plt.scatter(embeddings[:,0], embeddings[:,1], c=embed_clusters)\n",
    "if model_type == \"vae\":\n",
    "    plt.scatter(means[:,0], means[:,1], c=test_instr_labels)\n",
    "    plt.scatter(variances[:,0], variances[:,1], c=test_instr_labels)"
   ]
  },
  {
   "cell_type": "code",
   "execution_count": null,
   "metadata": {},
   "outputs": [],
   "source": []
  }
 ],
 "metadata": {
  "kernelspec": {
   "display_name": "Python 3",
   "language": "python",
   "name": "python3"
  },
  "language_info": {
   "codemirror_mode": {
    "name": "ipython",
    "version": 3
   },
   "file_extension": ".py",
   "mimetype": "text/x-python",
   "name": "python",
   "nbconvert_exporter": "python",
   "pygments_lexer": "ipython3",
   "version": "3.6.7"
  }
 },
 "nbformat": 4,
 "nbformat_minor": 2
}
