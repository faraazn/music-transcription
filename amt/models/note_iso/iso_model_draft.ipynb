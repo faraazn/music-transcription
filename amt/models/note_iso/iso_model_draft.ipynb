{
 "cells": [
  {
   "cell_type": "code",
   "execution_count": 1,
   "metadata": {},
   "outputs": [
    {
     "name": "stderr",
     "output_type": "stream",
     "text": [
      "Using TensorFlow backend.\n"
     ]
    }
   ],
   "source": [
    "import keras\n",
    "import numpy as np\n",
    "import pretty_midi\n",
    "import librosa\n",
    "import glob\n",
    "import os\n",
    "import matplotlib.pyplot as plt\n",
    "import librosa.display\n",
    "import IPython.display as ipd\n",
    "\n",
    "# synthesize without label and then add back for train?\n",
    "# loud not at the end to force normalization?"
   ]
  },
  {
   "cell_type": "code",
   "execution_count": 2,
   "metadata": {},
   "outputs": [],
   "source": [
    "class NoteIsoSequence(keras.utils.Sequence):\n",
    "    \"\"\"Generate note iso data for training/validation.\"\"\"\n",
    "    def __init__(self, song_path, noisy, sample_duration=16000, n_fft=512, batch_size=1, shuffle=False, \n",
    "                 fs=16000, sf2_path=\"/usr/share/sounds/sf2/FluidR3_GM.sf2\"):\n",
    "        self.song_path = song_path\n",
    "        pm = pretty_midi.PrettyMIDI(song_path)\n",
    "        self.pm_samples = pm.fluidsynth(fs=fs, sf2_path=sf2_path)\n",
    "#         assert np.all(self.pm_samples == samples)\n",
    "        self.batch_size = batch_size\n",
    "        self.shuffle = shuffle\n",
    "        self.fs = fs\n",
    "        self.sf2_path = sf2_path\n",
    "        self.sample_duration = sample_duration\n",
    "        self.n_fft = n_fft\n",
    "        self.noisy = noisy\n",
    "#         self.indices = np.arange(len(self.song_paths))\n",
    "#         if self.shuffle == True:\n",
    "#             np.random.shuffle(self.indices)\n",
    "        #self.on_epoch_end()\n",
    "\n",
    "    def __len__(self):\n",
    "        'Denotes the number of batches per epoch'\n",
    "        return 1 #int(np.floor(len(self.song_paths) / self.batch_size))\n",
    "\n",
    "    def __getitem__(self, index):\n",
    "        'Generate one batch of data'\n",
    "        # Generate indices\n",
    "        #indices = self.indices[index*self.batch_size:(index+1)*self.batch_size]\n",
    "\n",
    "        # Find list of IDs\n",
    "        #batch_song_paths = [self.song_paths[k] for k in indices]\n",
    "\n",
    "        # Generate data\n",
    "        #X, y = self.process_batch(self.song_paths[index])\n",
    "        X, y = self.process_batch(self.song_path, self.pm_samples)\n",
    "        \n",
    "        \n",
    "#         song_path = self.song_paths[index]\n",
    "\n",
    "        return X, y\n",
    "\n",
    "    def on_epoch_end(self):\n",
    "        'Updates indexes after each epoch'\n",
    "#         if self.shuffle == True:\n",
    "#             np.random.shuffle(self.indices)\n",
    "        pass\n",
    "\n",
    "    def process_batch(self, song_path, samples):\n",
    "        'Generates data containing batch_size samples' \n",
    "        # each batch from one instrument of one song\n",
    "        # X needs to be 3 seconds of audio surrounding \n",
    "        pm = pretty_midi.PrettyMIDI(song_path)\n",
    "#         num_instruments = len(pm.instruments)\n",
    "        instr_id = 0 #np.random.randint(num_instruments)\n",
    "#         num_notes = len(pm.instruments[instr_id].notes)\n",
    "#         note_ids = np.array([0])#np.random.randint(num_notes, size=self.batch_size)\n",
    "        \n",
    "#         pm_samples = samples #pm.fluidsynth(fs=self.fs, sf2_path=self.sf2_path)\n",
    "        \n",
    "        X = []\n",
    "        y = []\n",
    "        note_ids = [0]\n",
    "#         print(pm.instruments[0])\n",
    "#         print(pm.instruments[0].notes[0])\n",
    "        for note_id in note_ids:\n",
    "            pm_iso = pretty_midi.PrettyMIDI()\n",
    "            #print(pm.instruments[0].notes[1])\n",
    "            pm_iso.instruments = [pm.instruments[0]]\n",
    "            #print(pm_iso.instruments)\n",
    "            note = pm_iso.instruments[0].notes[0]\n",
    "            pm_iso.instruments[0].notes = [note]\n",
    "#             print(pm_iso.instruments[0])\n",
    "#             print(note)\n",
    "            #print(pm_iso.instruments[0].notes)\n",
    "            note_start = note.start\n",
    "#             print(\"start {}\".format(note_start))\n",
    "            note_end = note.end\n",
    "#             print(\"end {}\".format(note_end))\n",
    "            note_pitch = note.pitch\n",
    "#             print(\"pitch {}\".format(note_pitch))\n",
    "            note_velocity = note.velocity\n",
    "#             print(\"velocity {}\".format(note_velocity))\n",
    "            #print(\"velocity {}\".format(note_velocity))\n",
    "            note_iso_duration = note_end - note_start\n",
    "            #print(\"duration {}s\".format(note_iso_duration))\n",
    "            #print(note.end)\n",
    "            note.end = note_iso_duration\n",
    "            #print(note.end)\n",
    "#             print(int(note_start * self.fs))\n",
    "            sample_start = int(note_start * self.fs)\n",
    "            note.start = 0.0\n",
    "            \n",
    "            \n",
    "#             print(int(note_start * self.fs))\n",
    "            \n",
    "            pm_iso_samples = pm_iso.fluidsynth(fs=self.fs, sf2_path=self.sf2_path)\n",
    "            if len(pm_iso_samples) > self.sample_duration:\n",
    "                pm_iso_samples = pm_iso_samples[:self.sample_duration]\n",
    "            if len(pm_iso_samples) < self.sample_duration:\n",
    "                pm_iso_samples = np.pad(pm_iso_samples, (0, self.sample_duration-len(pm_iso_samples)), \n",
    "                                        'constant', constant_values=(0,0))\n",
    "            \n",
    "            padded_samples = samples[:]\n",
    "#             print(\"samples\")\n",
    "#             plt.plot(samples)\n",
    "#             plt.show\n",
    "#             print(\"padded samples\")\n",
    "#             print(padded_samples)\n",
    "            if len(padded_samples > sample_start+self.sample_duration):\n",
    "#                 print(len(padded_samples))\n",
    "                padded_samples = padded_samples[sample_start:sample_start+self.sample_duration]\n",
    "#                 print(len(padded_samples))\n",
    "            if len(padded_samples) < self.sample_duration:\n",
    "                assert False\n",
    "                padded_samples = np.pad(padded_samples, (0, self.sample_duration-len(padded_samples)), \n",
    "                                        'constant', constant_values=(0,0))\n",
    "#             assert np.all(self.noisy == padded_samples)\n",
    "#             print(\"padded samples\")\n",
    "#             plt.plot(padded_samples)\n",
    "#             plt.show\n",
    "                \n",
    "            assert len(padded_samples) == len(pm_iso_samples)\n",
    "            noisy_stft = librosa.core.stft(y=padded_samples, n_fft=self.n_fft)\n",
    "#             plt.figure(figsize=(10, 4))\n",
    "#             librosa.display.specshow(librosa.power_to_db(np.abs(noisy_stft), ref=np.max), \n",
    "#                                      y_axis='mel', fmax=8000, x_axis='time')\n",
    "#             plt.colorbar(format='%+2.0f dB')\n",
    "#             plt.title('STFT')\n",
    "#             plt.tight_layout()\n",
    "            iso_stft = librosa.core.stft(y=pm_iso_samples, n_fft=self.n_fft)\n",
    "#             print(\"noisy\")\n",
    "#             print(noisy_stft)\n",
    "#             print(\"iso\")\n",
    "#             print(iso_stft)\n",
    "            assert noisy_stft.shape == iso_stft.shape\n",
    "#             assert self.noisy.shape == noisy_stft.shape\n",
    "#             assert np.all(self.noisy == noisy_stft)\n",
    "            complex_mask = np.divide(iso_stft, noisy_stft, out=np.zeros_like(iso_stft), where=noisy_stft!=0)\n",
    "            \n",
    "            # convert complex numbers to real and imaginary parts\n",
    "            final_mask = np.append(complex_mask.real, complex_mask.imag, axis=0)\n",
    "            final_noisy = np.append(noisy_stft.real, noisy_stft.imag, axis=0)\n",
    "            \n",
    "#             annotation = np.zeros((final_noisy.shape[0], 1))\n",
    "#             annotation[0] = note_pitch\n",
    "#             annotation[1] = note_velocity\n",
    "#             annotation[2] = note_start\n",
    "#             annotation[3] = note_end\n",
    "#             annotation[4] = note_start - note_end\n",
    "#             input_x = np.append(final_noisy, annotation, axis=1)\n",
    "            for j in range(32):\n",
    "                X.append(final_noisy)\n",
    "                y.append(final_mask)\n",
    "#             print(\"final noisy\")\n",
    "#             print(final_noisy)\n",
    "#             print(\"final mask\")\n",
    "#             print(final_mask)\n",
    "        X = np.array(X)\n",
    "        y = np.array(y)\n",
    "\n",
    "        return X, y"
   ]
  },
  {
   "cell_type": "code",
   "execution_count": 3,
   "metadata": {},
   "outputs": [
    {
     "name": "stdout",
     "output_type": "stream",
     "text": [
      "/home/faraaz/workspace/music-transcription/data/clean_midi/Redbone/Come and Get Your Love.mid\n"
     ]
    }
   ],
   "source": [
    "midi_root_dir = \"/home/faraaz/workspace/music-transcription/data/clean_midi/\"\n",
    "midi_files = glob.iglob(os.path.join(midi_root_dir, '**', '*.mid'))\n",
    "midi_file = next(midi_files)\n",
    "print(midi_file)\n",
    "# midi_files = [midi_file for midi_file in midi_files]\n",
    "# num_files = len(midi_files)\n",
    "\n",
    "# train_files = midi_files[0:1] #midi_files[int(num_files/5):]\n",
    "# valid_files = midi_files[0:1] #midi_files[:int(num_files/5)]"
   ]
  },
  {
   "cell_type": "code",
   "execution_count": 4,
   "metadata": {},
   "outputs": [
    {
     "name": "stdout",
     "output_type": "stream",
     "text": [
      "hi\n"
     ]
    }
   ],
   "source": [
    "sf2_path=\"/usr/share/sounds/sf2/FluidR3_GM.sf2\"\n",
    "sample_rate = 16000\n",
    "sample_duration = 50\n",
    "n_fft = 8\n",
    "pm = pretty_midi.PrettyMIDI(midi_file)\n",
    "pm_samples = pm.fluidsynth(fs=sample_rate, sf2_path=sf2_path)\n",
    "print('hi')"
   ]
  },
  {
   "cell_type": "code",
   "execution_count": 5,
   "metadata": {},
   "outputs": [],
   "source": [
    "# ipd.Audio(data=pm_samples, rate=44100)"
   ]
  },
  {
   "cell_type": "code",
   "execution_count": 6,
   "metadata": {},
   "outputs": [
    {
     "name": "stdout",
     "output_type": "stream",
     "text": [
      "Note(start=51.199077, end=51.318123, pitch=81, velocity=105)\n",
      "[Instrument(program=0, is_drum=False, name=\"A.PIANO 1\")]\n",
      "[Note(start=51.199077, end=51.318123, pitch=81, velocity=105)]\n",
      "velocity 105\n",
      "duration 0.11904583333333107s\n",
      "51.318123125\n"
     ]
    }
   ],
   "source": [
    "pm_iso = pretty_midi.PrettyMIDI()\n",
    "print(pm.instruments[0].notes[0])\n",
    "pm_iso.instruments = [pm.instruments[0]]\n",
    "print(pm_iso.instruments)\n",
    "note = pm_iso.instruments[0].notes[0]\n",
    "pm_iso.instruments[0].notes = [note]\n",
    "print(pm_iso.instruments[0].notes)\n",
    "note_start = note.start\n",
    "note_end = note.end\n",
    "note_pitch = note.pitch\n",
    "note_velocity = note.velocity\n",
    "print(\"velocity {}\".format(note_velocity))\n",
    "note_iso_duration = note_end - note_start\n",
    "print(\"duration {}s\".format(note_iso_duration))\n",
    "print(note.end)\n",
    "note.end = note_iso_duration\n",
    "note.start = 0.0\n",
    "\n",
    "sample_start = int(note_start * sample_rate)\n",
    "sample_end = sample_start + sample_duration"
   ]
  },
  {
   "cell_type": "code",
   "execution_count": 7,
   "metadata": {},
   "outputs": [
    {
     "data": {
      "text/html": [
       "\n",
       "                <audio controls=\"controls\" >\n",
       "                    <source src=\"data:audio/wav;base64,UklGRogAAABXQVZFZm10IBAAAAABAAEAgD4AAAB9AAACABAAZGF0YWQAAAAAAAAAAAAAAAAAowCjAKMAAABHAaMARwGPAqMAowAzA0cBowAV/rn+Ff5S+M38RwGPAkcRKBz/H2Ym9SgyIxQOAABd7+zR4spyvaXAIMUVvvbo4urCFa1XWx88SihchFv/f/8P\" type=\"audio/wav\" />\n",
       "                    Your browser does not support the audio element.\n",
       "                </audio>\n",
       "              "
      ],
      "text/plain": [
       "<IPython.lib.display.Audio object>"
      ]
     },
     "execution_count": 7,
     "metadata": {},
     "output_type": "execute_result"
    }
   ],
   "source": [
    "pm_iso_samples = pm_iso.fluidsynth(fs=sample_rate, sf2_path=sf2_path)\n",
    "if len(pm_iso_samples) > sample_duration:\n",
    "    pm_iso_samples = pm_iso_samples[:sample_duration]\n",
    "if len(pm_iso_samples) < sample_duration:\n",
    "    pm_iso_samples = np.pad(pm_iso_samples, (0, sample_duration-len(pm_iso_samples)), \n",
    "                                'constant', constant_values=(0,0))\n",
    "ipd.Audio(pm_iso_samples, rate=sample_rate)"
   ]
  },
  {
   "cell_type": "code",
   "execution_count": 8,
   "metadata": {},
   "outputs": [
    {
     "name": "stdout",
     "output_type": "stream",
     "text": [
      "hi\n",
      "(5021885,)\n"
     ]
    }
   ],
   "source": [
    "padded_samples = pm_samples[:]\n",
    "if len(padded_samples > sample_start+sample_duration):\n",
    "    print(\"hi\")\n",
    "    print(pm_samples.shape)\n",
    "    padded_samples = padded_samples[sample_start:sample_start+sample_duration]\n",
    "if len(padded_samples) < sample_duration:\n",
    "    padded_samples = np.pad(padded_samples, (0, sample_duration-len(padded_samples)), \n",
    "                                'constant', constant_values=(0,0))"
   ]
  },
  {
   "cell_type": "code",
   "execution_count": 9,
   "metadata": {},
   "outputs": [
    {
     "name": "stdout",
     "output_type": "stream",
     "text": [
      "(50,)\n",
      "(50,)\n",
      "0.16506433959473452\n",
      "0.016097875080489377\n"
     ]
    },
    {
     "data": {
      "text/html": [
       "\n",
       "                <audio controls=\"controls\" >\n",
       "                    <source src=\"data:audio/wav;base64,UklGRogAAABXQVZFZm10IBAAAAABAAEAgD4AAAB9AAACABAAZGF0YWQAAADTxvbGbtUPz4jCWsoIx7fFqcnPy5/IL8Kry9u8D8/t/ZvWabTa11zMEq2Sn2TmKBj917r2ON6ErEW9i+FPN5Uac+1x6yDzZRf3CcIA3hP1EMQLDiLXMRQxdkQaN6wy/388f0FN\" type=\"audio/wav\" />\n",
       "                    Your browser does not support the audio element.\n",
       "                </audio>\n",
       "              "
      ],
      "text/plain": [
       "<IPython.lib.display.Audio object>"
      ]
     },
     "execution_count": 9,
     "metadata": {},
     "output_type": "execute_result"
    }
   ],
   "source": [
    "print(padded_samples.shape)\n",
    "print(pm_iso_samples.shape)\n",
    "print(padded_samples[-1])\n",
    "print(pm_iso_samples[-1])\n",
    "ipd.Audio(padded_samples, rate=sample_rate)"
   ]
  },
  {
   "cell_type": "code",
   "execution_count": 10,
   "metadata": {},
   "outputs": [
    {
     "name": "stdout",
     "output_type": "stream",
     "text": [
      "(5, 26)\n"
     ]
    },
    {
     "data": {
      "image/png": "[encoded data removed]",
      "text/plain": [
       "<Figure size 720x288 with 2 Axes>"
      ]
     },
     "metadata": {
      "needs_background": "light"
     },
     "output_type": "display_data"
    }
   ],
   "source": [
    "noisy_stft = librosa.core.stft(y=padded_samples, n_fft=n_fft)\n",
    "print(noisy_stft.shape)\n",
    "plt.figure(figsize=(10, 4))\n",
    "librosa.display.specshow(librosa.power_to_db(np.abs(noisy_stft), ref=np.max), \n",
    "                         y_axis='mel', fmax=8000, x_axis='time')\n",
    "plt.colorbar(format='%+2.0f dB')\n",
    "plt.title('noisy')\n",
    "plt.tight_layout()"
   ]
  },
  {
   "cell_type": "code",
   "execution_count": 11,
   "metadata": {},
   "outputs": [
    {
     "data": {
      "image/png": "[encoded data removed]",
      "text/plain": [
       "<Figure size 720x288 with 2 Axes>"
      ]
     },
     "metadata": {
      "needs_background": "light"
     },
     "output_type": "display_data"
    }
   ],
   "source": [
    "iso_stft = librosa.core.stft(y=pm_iso_samples, n_fft=n_fft)\n",
    "plt.figure(figsize=(10, 4))\n",
    "librosa.display.specshow(librosa.power_to_db(np.abs(iso_stft), ref=np.max), \n",
    "                         y_axis='mel', fmax=8000, x_axis='time')\n",
    "plt.colorbar(format='%+2.0f dB')\n",
    "plt.title('iso')\n",
    "plt.tight_layout()"
   ]
  },
  {
   "cell_type": "code",
   "execution_count": 12,
   "metadata": {},
   "outputs": [
    {
     "name": "stdout",
     "output_type": "stream",
     "text": [
      "130\n",
      "5\n",
      "125\n",
      "5\n",
      "125\n",
      "5\n",
      "0\n"
     ]
    },
    {
     "data": {
      "image/png": "[encoded data removed]",
      "text/plain": [
       "<Figure size 720x288 with 2 Axes>"
      ]
     },
     "metadata": {
      "needs_background": "light"
     },
     "output_type": "display_data"
    }
   ],
   "source": [
    "mask = iso_stft / noisy_stft\n",
    "assert np.all(iso_stft != noisy_stft)\n",
    "print(np.count_nonzero(noisy_stft))\n",
    "print(len(noisy_stft))\n",
    "print(np.count_nonzero(iso_stft))\n",
    "print(len(iso_stft))\n",
    "print(np.count_nonzero(mask))\n",
    "print(len(mask))\n",
    "print(np.count_nonzero(np.isnan(mask)))\n",
    "#np.count_nonzero(noisy_stft) == len(noisy_stft)\n",
    "plt.figure(figsize=(10, 4))\n",
    "librosa.display.specshow(librosa.power_to_db(np.abs(mask), ref=np.max), \n",
    "                         y_axis='mel', fmax=8000, x_axis='time')\n",
    "plt.colorbar(format='%+2.0f dB')\n",
    "plt.title('mask')\n",
    "plt.tight_layout()"
   ]
  },
  {
   "cell_type": "code",
   "execution_count": 13,
   "metadata": {},
   "outputs": [
    {
     "name": "stdout",
     "output_type": "stream",
     "text": [
      "(6.4061565-0j)\n",
      "(-8.302157-0j)\n"
     ]
    },
    {
     "data": {
      "image/png": "[encoded data removed]",
      "text/plain": [
       "<Figure size 720x288 with 2 Axes>"
      ]
     },
     "metadata": {
      "needs_background": "light"
     },
     "output_type": "display_data"
    }
   ],
   "source": [
    "complex_mask = np.divide(iso_stft, noisy_stft, out=np.zeros_like(iso_stft), where=noisy_stft!=0)\n",
    "plt.figure(figsize=(10, 4))\n",
    "librosa.display.specshow(librosa.power_to_db(np.abs(complex_mask), ref=np.max), \n",
    "                         y_axis='mel', fmax=8000, x_axis='time')\n",
    "plt.colorbar(format='%+2.0f dB')\n",
    "plt.title('not nan mask')\n",
    "plt.tight_layout()\n",
    "print(np.max(complex_mask))\n",
    "print(np.min(complex_mask))"
   ]
  },
  {
   "cell_type": "code",
   "execution_count": 14,
   "metadata": {},
   "outputs": [
    {
     "name": "stdout",
     "output_type": "stream",
     "text": [
      "_________________________________________________________________\n",
      "Layer (type)                 Output Shape              Param #   \n",
      "=================================================================\n",
      "reshape_1 (Reshape)          (None, 260)               0         \n",
      "_________________________________________________________________\n",
      "dense_1 (Dense)              (None, 300)               78300     \n",
      "_________________________________________________________________\n",
      "activation_1 (Activation)    (None, 300)               0         \n",
      "_________________________________________________________________\n",
      "dense_2 (Dense)              (None, 260)               78260     \n",
      "_________________________________________________________________\n",
      "activation_2 (Activation)    (None, 260)               0         \n",
      "_________________________________________________________________\n",
      "dense_3 (Dense)              (None, 400)               104400    \n",
      "_________________________________________________________________\n",
      "activation_3 (Activation)    (None, 400)               0         \n",
      "_________________________________________________________________\n",
      "dense_4 (Dense)              (None, 300)               120300    \n",
      "_________________________________________________________________\n",
      "activation_4 (Activation)    (None, 300)               0         \n",
      "_________________________________________________________________\n",
      "dense_5 (Dense)              (None, 260)               78260     \n",
      "_________________________________________________________________\n",
      "reshape_2 (Reshape)          (None, 10, 26)            0         \n",
      "_________________________________________________________________\n",
      "reshape_3 (Reshape)          (None, 10, 26)            0         \n",
      "=================================================================\n",
      "Total params: 459,520\n",
      "Trainable params: 459,520\n",
      "Non-trainable params: 0\n",
      "_________________________________________________________________\n"
     ]
    }
   ],
   "source": [
    "train_generator = NoteIsoSequence(midi_file, padded_samples, sample_duration=sample_duration, \n",
    "                                  fs=sample_rate, n_fft=n_fft)\n",
    "valid_generator = NoteIsoSequence(midi_file, padded_samples, sample_duration=sample_duration, \n",
    "                                  fs=sample_rate, n_fft=n_fft)\n",
    "\n",
    "rows = 10\n",
    "cols = 26\n",
    "model = keras.models.Sequential()\n",
    "model.add(keras.layers.Reshape((rows*cols,), input_shape=(rows, cols)))\n",
    "model.add(keras.layers.Dense(300))\n",
    "model.add(keras.layers.Activation(\"relu\"))\n",
    "model.add(keras.layers.Dense(rows*cols))\n",
    "model.add(keras.layers.Activation(\"relu\"))\n",
    "model.add(keras.layers.Dense(400))\n",
    "model.add(keras.layers.Activation(\"relu\"))\n",
    "model.add(keras.layers.Dense(300))\n",
    "model.add(keras.layers.Activation(\"relu\"))\n",
    "model.add(keras.layers.Dense(rows*cols))\n",
    "model.add(keras.layers.Reshape((rows, cols)))\n",
    "# model.add(keras.layers.Dense(400))\n",
    "# model.add(keras.layers.Activation(\"relu\"))\n",
    "# model.add(keras.layers.Dense(1*1*128))\n",
    "# model.add(keras.layers.Activation(\"relu\"))\n",
    "# model.add(keras.layers.Reshape((1, 1, 128)))\n",
    "# model.add(keras.layers.BatchNormalization(momentum=0.8))\n",
    "# model.add(keras.layers.UpSampling2D(size=(2, 1)))\n",
    "# model.add(keras.layers.Conv2D(64, 3, padding=\"same\"))\n",
    "# model.add(keras.layers.Activation(\"relu\"))\n",
    "# model.add(keras.layers.BatchNormalization(momentum=0.8))\n",
    "# model.add(keras.layers.UpSampling2D(size=(5, 13)))\n",
    "# model.add(keras.layers.Conv2D(16, 3, padding=\"same\"))\n",
    "# model.add(keras.layers.Activation(\"relu\"))\n",
    "# model.add(keras.layers.Conv2D(2, 3, padding=\"same\"))\n",
    "# model.add(keras.layers.Activation(\"sigmoid\"))\n",
    "model.add(keras.layers.Reshape((rows, cols)))\n",
    "    \n",
    "sgd = keras.optimizers.SGD(lr=0.1)\n",
    "model.compile(optimizer=sgd, loss='mean_squared_error')\n",
    "\n",
    "model.summary()"
   ]
  },
  {
   "cell_type": "code",
   "execution_count": 15,
   "metadata": {},
   "outputs": [
    {
     "name": "stdout",
     "output_type": "stream",
     "text": [
      "Epoch 1/10\n",
      "100/100 [==============================] - 91s 909ms/step - loss: 0.2967 - val_loss: 1.0415e-05\n",
      "Epoch 2/10\n",
      "100/100 [==============================] - 91s 906ms/step - loss: 6.8164e-07 - val_loss: 1.6668e-12\n",
      "Epoch 3/10\n",
      "Epoch 2/10\n",
      "100/100 [==============================] - 91s 905ms/step - loss: 3.5798e-13 - val_loss: 9.2217e-14\n",
      "Epoch 4/10\n",
      "100/100 [==============================] - 91s 907ms/step - loss: 5.9768e-14 - val_loss: 3.6610e-14\n",
      "Epoch 5/10\n",
      "100/100 [==============================] - 90s 905ms/step - loss: 2.7557e-14 - val_loss: 2.1663e-14\n",
      "Epoch 6/10\n",
      "100/100 [==============================] - 90s 902ms/step - loss: 1.9813e-14 - val_loss: 1.4358e-14\n",
      "Epoch 7/10\n",
      "100/100 [==============================] - 91s 905ms/step - loss: 1.3108e-14 - val_loss: 1.1409e-14\n",
      "Epoch 8/10\n",
      "100/100 [==============================] - 90s 903ms/step - loss: 1.0676e-14 - val_loss: 1.0240e-14\n",
      "Epoch 9/10\n",
      "100/100 [==============================] - 90s 903ms/step - loss: 9.4307e-15 - val_loss: 7.9831e-15\n",
      "Epoch 10/10\n",
      "100/100 [==============================] - 91s 908ms/step - loss: 7.7626e-15 - val_loss: 7.5598e-15\n"
     ]
    },
    {
     "data": {
      "text/plain": [
       "<keras.callbacks.History at 0x7f825e4fb390>"
      ]
     },
     "execution_count": 15,
     "metadata": {},
     "output_type": "execute_result"
    }
   ],
   "source": [
    "model.fit_generator(generator=train_generator,\n",
    "                    validation_data=train_generator,\n",
    "                    use_multiprocessing=True,\n",
    "                    workers=6, steps_per_epoch=100, epochs=10,\n",
    "                    validation_steps=1)"
   ]
  },
  {
   "cell_type": "code",
   "execution_count": 16,
   "metadata": {},
   "outputs": [],
   "source": [
    "#model.save('test_model.h5')"
   ]
  },
  {
   "cell_type": "code",
   "execution_count": 17,
   "metadata": {},
   "outputs": [],
   "source": [
    "test_loss = model.evaluate_generator(train_generator, steps=1)"
   ]
  },
  {
   "cell_type": "code",
   "execution_count": 18,
   "metadata": {},
   "outputs": [
    {
     "name": "stdout",
     "output_type": "stream",
     "text": [
      "7.559799547430732e-15\n"
     ]
    }
   ],
   "source": [
    "print(test_loss)"
   ]
  },
  {
   "cell_type": "code",
   "execution_count": 19,
   "metadata": {},
   "outputs": [
    {
     "name": "stdout",
     "output_type": "stream",
     "text": [
      "(32, 10, 26)\n",
      "(10, 26)\n",
      "(-3.236346e-08+1.5320256e-07j)\n",
      "(-0.00021134643-9.2200935e-08j)\n",
      "(-0.0020958092-1.4458783e-07j)\n",
      "(6.9790985e-08-6.193295e-08j)\n",
      "(3.3993274e-08-1.5320256e-07j)\n",
      "(-1.2572855e-08-4.004687e-08j)\n",
      "(0.00033855066+0.00031723862j)\n",
      "(-0.00088000577+0.0022973958j)\n",
      "(0.0035281763-0.0005185746j)\n",
      "(5, 26)\n"
     ]
    }
   ],
   "source": [
    "predicted = model.predict_generator(train_generator, steps=1)\n",
    "print(predicted.shape)\n",
    "predicted = predicted[0]\n",
    "print(predicted.shape)\n",
    "predicted_real = predicted[:int(rows/2)]\n",
    "predicted_imag = predicted[int(rows/2):]\n",
    "predicted_stft = predicted_real + 1j * predicted_imag\n",
    "print(predicted_stft[0][0])\n",
    "print(predicted_stft[0][1])\n",
    "print(predicted_stft[0][2])\n",
    "print(predicted_stft[1][0])\n",
    "print(predicted_stft[2][0])\n",
    "print(predicted_stft[3][0])\n",
    "print(predicted_stft[1][1])\n",
    "print(predicted_stft[2][1])\n",
    "print(predicted_stft[3][1])\n",
    "print(predicted_stft.shape)"
   ]
  },
  {
   "cell_type": "code",
   "execution_count": 20,
   "metadata": {},
   "outputs": [
    {
     "data": {
      "image/png": "[encoded data removed]",
      "text/plain": [
       "<Figure size 720x288 with 2 Axes>"
      ]
     },
     "metadata": {
      "needs_background": "light"
     },
     "output_type": "display_data"
    }
   ],
   "source": [
    "plt.figure(figsize=(10, 4))\n",
    "librosa.display.specshow(librosa.power_to_db(np.abs(predicted), ref=np.max), \n",
    "                         y_axis='mel', fmax=8000, x_axis='time')\n",
    "plt.colorbar(format='%+2.0f dB')\n",
    "plt.title('predicted mask')\n",
    "plt.tight_layout()"
   ]
  },
  {
   "cell_type": "code",
   "execution_count": 21,
   "metadata": {},
   "outputs": [
    {
     "data": {
      "image/png": "[encoded data removed]",
      "text/plain": [
       "<Figure size 720x288 with 2 Axes>"
      ]
     },
     "metadata": {
      "needs_background": "light"
     },
     "output_type": "display_data"
    }
   ],
   "source": [
    "predicted_iso = noisy_stft * predicted_stft\n",
    "plt.figure(figsize=(10, 4))\n",
    "librosa.display.specshow(librosa.power_to_db(np.abs(predicted_iso), ref=np.max), \n",
    "                         y_axis='mel', fmax=8000, x_axis='time')\n",
    "plt.colorbar(format='%+2.0f dB')\n",
    "plt.title('predicted iso')\n",
    "plt.tight_layout()"
   ]
  },
  {
   "cell_type": "code",
   "execution_count": 22,
   "metadata": {},
   "outputs": [
    {
     "name": "stdout",
     "output_type": "stream",
     "text": [
      "50\n"
     ]
    },
    {
     "data": {
      "text/html": [
       "\n",
       "                <audio controls=\"controls\" >\n",
       "                    <source src=\"data:audio/wav;base64,UklGRogAAABXQVZFZm10IBAAAAABAAEAgD4AAAB9AAACABAAZGF0YWQAAAAAAAAAAAAAAAAAowCjAKMAAABHAaMARwGPAqMAowAzA0cBowAV/rn+Ff5S+M38RwGPAkcRKBz/H2Ym9SgyIxQOAABd7+zR4spyvaXAIMUVvvbo4urCFa1XWx88SihchFv/f/8P\" type=\"audio/wav\" />\n",
       "                    Your browser does not support the audio element.\n",
       "                </audio>\n",
       "              "
      ],
      "text/plain": [
       "<IPython.lib.display.Audio object>"
      ]
     },
     "execution_count": 22,
     "metadata": {},
     "output_type": "execute_result"
    }
   ],
   "source": [
    "iso_audio = librosa.core.istft(predicted_iso)\n",
    "print(len(iso_audio))\n",
    "ipd.Audio(iso_audio, rate=sample_rate)"
   ]
  },
  {
   "cell_type": "code",
   "execution_count": 23,
   "metadata": {},
   "outputs": [
    {
     "data": {
      "text/plain": [
       "<function matplotlib.pyplot.show(*args, **kw)>"
      ]
     },
     "execution_count": 23,
     "metadata": {},
     "output_type": "execute_result"
    },
    {
     "data": {
      "image/png": "[encoded data removed]",
      "text/plain": [
       "<Figure size 432x288 with 1 Axes>"
      ]
     },
     "metadata": {
      "needs_background": "light"
     },
     "output_type": "display_data"
    }
   ],
   "source": [
    "plt.plot(padded_samples)\n",
    "plt.show"
   ]
  },
  {
   "cell_type": "code",
   "execution_count": 24,
   "metadata": {},
   "outputs": [
    {
     "data": {
      "text/plain": [
       "<function matplotlib.pyplot.show(*args, **kw)>"
      ]
     },
     "execution_count": 24,
     "metadata": {},
     "output_type": "execute_result"
    },
    {
     "data": {
      "image/png": "[encoded data removed]",
      "text/plain": [
       "<Figure size 432x288 with 1 Axes>"
      ]
     },
     "metadata": {
      "needs_background": "light"
     },
     "output_type": "display_data"
    }
   ],
   "source": [
    "plt.plot(pm_samples)\n",
    "plt.show"
   ]
  },
  {
   "cell_type": "code",
   "execution_count": 25,
   "metadata": {},
   "outputs": [
    {
     "data": {
      "text/plain": [
       "<function matplotlib.pyplot.show(*args, **kw)>"
      ]
     },
     "execution_count": 25,
     "metadata": {},
     "output_type": "execute_result"
    },
    {
     "data": {
      "image/png": "[encoded data removed]",
      "text/plain": [
       "<Figure size 432x288 with 1 Axes>"
      ]
     },
     "metadata": {
      "needs_background": "light"
     },
     "output_type": "display_data"
    }
   ],
   "source": [
    "plt.plot(pm_samples[:50])\n",
    "plt.show"
   ]
  },
  {
   "cell_type": "code",
   "execution_count": null,
   "metadata": {},
   "outputs": [],
   "source": []
  }
 ],
 "metadata": {
  "kernelspec": {
   "display_name": "Python 3",
   "language": "python",
   "name": "python3"
  },
  "language_info": {
   "codemirror_mode": {
    "name": "ipython",
    "version": 3
   },
   "file_extension": ".py",
   "mimetype": "text/x-python",
   "name": "python",
   "nbconvert_exporter": "python",
   "pygments_lexer": "ipython3",
   "version": "3.6.7"
  }
 },
 "nbformat": 4,
 "nbformat_minor": 2
}
