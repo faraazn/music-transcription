{
 "cells": [
  {
   "cell_type": "code",
   "execution_count": null,
   "metadata": {},
   "outputs": [],
   "source": [
    "import pretty_midi\n",
    "import os\n",
    "import scipy.io.wavfile\n",
    "import time\n",
    "import IPython.display as ipd \n",
    "import numpy as np\n",
    "import sklearn.cluster\n",
    "import supervised_pca\n",
    "import matplotlib.pyplot as plt"
   ]
  },
  {
   "cell_type": "code",
   "execution_count": null,
   "metadata": {},
   "outputs": [],
   "source": [
    "# generate the individual instrument wavs for different pitches\n",
    "note_wavs_dir = \"/home/faraaz/workspace/music-transcription/data/note_wavs/\"\n",
    "sf2_path = \"/usr/share/sounds/sf2/FluidR3_GM.sf2\"\n",
    "\n",
    "num_programs = 16\n",
    "min_pitch = 30\n",
    "max_pitch = 100\n",
    "note_length = 2\n",
    "velocity = 80\n",
    "sample_rate = 44100\n",
    "start = time.time()\n",
    "\n",
    "for program in range(num_programs):\n",
    "    break\n",
    "    program = program * 8 + 2\n",
    "    for pitch in range(min_pitch, max_pitch+1):\n",
    "        note = pretty_midi.Note(velocity, pitch, 0, note_length)\n",
    "        instrument  = pretty_midi.Instrument(program)\n",
    "        instrument.notes = [note]\n",
    "        pm = pretty_midi.PrettyMIDI()\n",
    "        pm.instruments = [instrument]\n",
    "        \n",
    "        note_samples = pm.fluidsynth(fs=sample_rate, sf2_path=sf2_path)\n",
    "        filename = os.path.join(note_wavs_dir, \"{}_{}.wav\".format(program, pitch))\n",
    "        scipy.io.wavfile.write(filename, sample_rate, note_samples)\n",
    "    print(\"{}. {}s\".format(program, time.time()-start))\n",
    "    start = time.time()\n",
    "        "
   ]
  },
  {
   "cell_type": "code",
   "execution_count": null,
   "metadata": {},
   "outputs": [],
   "source": [
    "note_wav_file = \"/home/faraaz/workspace/music-transcription/data/note_wavs/0_50.wav\"\n",
    "_, note_samples = scipy.io.wavfile.read(note_wav_file)\n",
    "print(note_samples.shape)\n",
    "ipd.Audio(data=note_samples, rate=sample_rate)"
   ]
  },
  {
   "cell_type": "code",
   "execution_count": null,
   "metadata": {},
   "outputs": [],
   "source": [
    "# load the note embeddings\n",
    "note_embeds_dir = \"/home/faraaz/workspace/music-transcription/data/note_embeds/\"\n",
    "note_embeds = []\n",
    "program_labels = []\n",
    "pitch_labels = []\n",
    "\n",
    "used_programs = set()\n",
    "for program in range(128):\n",
    "    for pitch in range(min_pitch, max_pitch+1):\n",
    "        npy_file = os.path.join(note_embeds_dir, \"{}_{}_embeddings.npy\".format(program, pitch))\n",
    "        if not os.path.isfile(npy_file):\n",
    "            continue\n",
    "        used_programs.add(program)\n",
    "        filename = os.path.join(note_embeds_dir, npy_file)\n",
    "        note_embed = np.load(filename)\n",
    "        note_embeds.append(note_embed)\n",
    "        program_labels.append(program)\n",
    "        pitch_labels.append(pitch)\n",
    "\n",
    "note_embeds = np.array(note_embeds)\n",
    "program_labels = np.array(program_labels)\n",
    "pitch_labels = np.array(pitch_labels)\n",
    "print(note_embeds.shape)\n",
    "print(note_embeds[0][0])\n",
    "print(note_embeds[1][0])\n",
    "print(len(used_programs))\n",
    "\n",
    "# filename = os.path.join(note_embeds_dir, \"{}_{}_embeddings.npy\".format(0, 50))\n",
    "# print(filename)\n",
    "# note_embed = np.load(filename)\n",
    "# print(note_embed.shape)"
   ]
  },
  {
   "cell_type": "code",
   "execution_count": null,
   "metadata": {},
   "outputs": [],
   "source": [
    "X = np.reshape(note_embeds, (note_embeds.shape[0], -1))\n",
    "print(X[0][:10])\n",
    "print(X[1][:10])\n",
    "y = program_labels\n",
    "print(X.shape)\n",
    "kmeans = sklearn.cluster.AgglomerativeClustering(n_clusters=8)\n",
    "note_preds = kmeans.fit_predict(X)\n",
    "print(note_preds.shape)"
   ]
  },
  {
   "cell_type": "code",
   "execution_count": null,
   "metadata": {},
   "outputs": [],
   "source": [
    "total_notes = len(note_embeds)\n",
    "note_range = max_pitch - min_pitch\n",
    "results_matrix = []\n",
    "for i in range(8):\n",
    "    results_matrix.append([0]*8)\n",
    "    for pitch in range(note_range):\n",
    "        cluster = note_preds[i*8 + pitch]\n",
    "        results_matrix[i][cluster] += 1\n",
    "\n",
    "for i in range(8):\n",
    "    print(\"{}.\\t{}\".format(i, results_matrix[i]))"
   ]
  },
  {
   "cell_type": "code",
   "execution_count": null,
   "metadata": {},
   "outputs": [],
   "source": [
    "total_notes = len(note_embeds)\n",
    "note_range = max_pitch - min_pitch\n",
    "results_matrix = []\n",
    "for pitch in range(note_range):\n",
    "    results_matrix.append([0]*num_programs)\n",
    "    for i in range(8):\n",
    "        cluster = note_preds[i*8 + pitch]\n",
    "        results_matrix[pitch][cluster] += 1\n",
    "\n",
    "for pitch in range(note_range):\n",
    "    print(\"{}.\\t{}\".format(pitch, results_matrix[pitch]))"
   ]
  },
  {
   "cell_type": "code",
   "execution_count": null,
   "metadata": {},
   "outputs": [],
   "source": []
  },
  {
   "cell_type": "code",
   "execution_count": null,
   "metadata": {},
   "outputs": [],
   "source": [
    "print(note_embeds.shape)\n",
    "X = np.reshape(note_embeds[:, :63, :], (len(note_embeds), -1))\n",
    "# X_train = X[len(X)//5:]\n",
    "# X_test = X[:len(X)//5]\n",
    "# print(X_train.shape)\n",
    "# print(X_test.shape)\n",
    "y = pitch_labels\n",
    "# y_train = pitch_labels[len(pitch_labels)//5:]\n",
    "# y_test = pitch_labels[:len(pitch_labels)//5]\n",
    "print(y.shape)\n",
    "\n",
    "pca = supervised_pca.SupervisedPCARegressor(normalize=True)\n",
    "pca.fit(X, y)\n",
    "print(pca.get_n_components())"
   ]
  },
  {
   "cell_type": "code",
   "execution_count": null,
   "metadata": {},
   "outputs": [],
   "source": [
    "# print(pca.score(X_test, y_test))\n",
    "\n",
    "coefs = abs(pca.get_coefs())\n",
    "print(sorted(coefs)[-10:])\n",
    "ordered_components = np.argsort(coefs)\n",
    "print(ordered_components[-10:])\n",
    "print(coefs[ordered_components][-10:])"
   ]
  },
  {
   "cell_type": "code",
   "execution_count": null,
   "metadata": {},
   "outputs": [],
   "source": [
    "transformed_X = pca.get_transformed_data(X)\n",
    "print(transformed_X.shape)\n",
    "transformed_X = transformed_X[:, ordered_components]\n",
    "transformed_X = transformed_X[:, :2]\n",
    "#transformed_X = np.delete(transformed_X, pitch_component, axis=1)\n",
    "print(transformed_X.shape)"
   ]
  },
  {
   "cell_type": "code",
   "execution_count": null,
   "metadata": {},
   "outputs": [],
   "source": [
    "kmeans = sklearn.cluster.KMeans(n_clusters=8)\n",
    "note_preds = kmeans.fit_predict(transformed_X)\n",
    "print(note_preds.shape)"
   ]
  },
  {
   "cell_type": "code",
   "execution_count": null,
   "metadata": {},
   "outputs": [],
   "source": [
    "total_notes = len(transformed_X)\n",
    "note_range = max_pitch - min_pitch\n",
    "results_matrix = []\n",
    "for i in range(8):\n",
    "    results_matrix.append([0]*8)\n",
    "    for pitch in range(note_range):\n",
    "        cluster = note_preds[i*8 + pitch]\n",
    "        results_matrix[i][cluster] += 1\n",
    "\n",
    "for i in range(8):\n",
    "    print(\"{}.\\t{}\".format(i, results_matrix[i]))"
   ]
  },
  {
   "cell_type": "code",
   "execution_count": null,
   "metadata": {},
   "outputs": [],
   "source": [
    "total_notes = len(transformed_X)\n",
    "note_range = max_pitch - min_pitch\n",
    "results_matrix = []\n",
    "for pitch in range(note_range):\n",
    "    results_matrix.append([0]*num_programs)\n",
    "    for i in range(8):\n",
    "        cluster = note_preds[i*8 + pitch]\n",
    "        results_matrix[pitch][cluster] += 1\n",
    "\n",
    "for pitch in range(note_range):\n",
    "    print(\"{}.\\t{}\".format(pitch, results_matrix[pitch]))"
   ]
  },
  {
   "cell_type": "code",
   "execution_count": null,
   "metadata": {},
   "outputs": [],
   "source": [
    "print(transformed_X.shape)\n",
    "fig, ax = plt.subplots(figsize=(20,20))\n",
    "plt.axis('equal')\n",
    "ax.scatter(transformed_X[:,-2], transformed_X[:,-1], c=program_labels)\n",
    "\n",
    "for i in range(len(transformed_X)):\n",
    "    ax.annotate(pitch_labels[i], (transformed_X[i,-2], transformed_X[i,-1]))"
   ]
  },
  {
   "cell_type": "code",
   "execution_count": null,
   "metadata": {},
   "outputs": [],
   "source": [
    "print(transformed_X.shape)\n",
    "fig, ax = plt.subplots()\n",
    "ax.scatter(transformed_X[:,0], transformed_X[:,1])\n",
    "\n",
    "for i in range(len(transformed_X)):\n",
    "    ax.annotate(pitch_labels[i], (transformed_X[i,0], transformed_X[i,1]))"
   ]
  },
  {
   "cell_type": "code",
   "execution_count": null,
   "metadata": {},
   "outputs": [],
   "source": [
    "transformed_X = pca.get_transformed_data(X)\n",
    "print(transformed_X.shape)\n",
    "transformed_X = transformed_X[:, ordered_components]\n",
    "#transformed_X = transformed_X[:, :2]\n",
    "#transformed_X = np.delete(transformed_X, pitch_component, axis=1)\n",
    "print(transformed_X.shape)"
   ]
  },
  {
   "cell_type": "code",
   "execution_count": null,
   "metadata": {},
   "outputs": [],
   "source": [
    "# points_dict = {}\n",
    "# for i in range(len(program_labels)):\n",
    "#     if tuple(transformed_X[i]) not in points_dict:\n",
    "#         points_dict[tuple(transformed_X[i])] = set()\n",
    "#     points_dict[tuple(transformed_X[i])].add(program_labels[i])\n",
    "\n",
    "# for point in points_dict:\n",
    "#     print(\"{}: {}\".format(\"hi\", points_dict[point]))"
   ]
  },
  {
   "cell_type": "code",
   "execution_count": null,
   "metadata": {},
   "outputs": [],
   "source": []
  },
  {
   "cell_type": "code",
   "execution_count": null,
   "metadata": {},
   "outputs": [],
   "source": []
  }
 ],
 "metadata": {
  "kernelspec": {
   "display_name": "Python 3",
   "language": "python",
   "name": "python3"
  },
  "language_info": {
   "codemirror_mode": {
    "name": "ipython",
    "version": 3
   },
   "file_extension": ".py",
   "mimetype": "text/x-python",
   "name": "python",
   "nbconvert_exporter": "python",
   "pygments_lexer": "ipython3",
   "version": "3.6.7"
  }
 },
 "nbformat": 4,
 "nbformat_minor": 2
}
