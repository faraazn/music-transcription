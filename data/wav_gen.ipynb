{
 "cells": [
  {
   "cell_type": "code",
   "execution_count": null,
   "metadata": {},
   "outputs": [],
   "source": [
    "import scipy.io.wavfile\n",
    "import glob\n",
    "import pretty_midi\n",
    "import os\n",
    "import IPython.display as ipd \n",
    "import librosa\n",
    "import time\n",
    "import matplotlib.pyplot as plt\n",
    "import librosa.display\n",
    "import numpy as np\n",
    "import scipy"
   ]
  },
  {
   "cell_type": "code",
   "execution_count": null,
   "metadata": {},
   "outputs": [],
   "source": [
    "midi_root_dir = \"/home/faraaz/workspace/music-transcription/data/clean_midi/\"\n",
    "midi_files = glob.iglob(os.path.join(midi_root_dir, '**', '*.mid'))\n",
    "sf2_path = \"/usr/share/sounds/sf2/FluidR3_GM.sf2\"\n",
    "\n",
    "num = 0\n",
    "start = time.time()\n",
    "\n",
    "midi_file = \"/home/faraaz/workspace/music-transcription/data/clean_midi/Redbone/Come and Get Your Love.mid\"\n",
    "fs = 44100\n",
    "\n",
    "pm = pretty_midi.PrettyMIDI(midi_file=midi_file)\n",
    "start = time.time()\n",
    "pm_samples = pm.fluidsynth(fs=fs, sf2_path=sf2_path)\n",
    "print(\"wav gen {}s\".format(time.time()-start))\n",
    "start = time.time()\n",
    "print(\"pm_samples {}\".format(len(pm_samples)))\n",
    "print(\"end time {}s\".format(pm.get_end_time()))"
   ]
  },
  {
   "cell_type": "code",
   "execution_count": null,
   "metadata": {},
   "outputs": [],
   "source": [
    "pm_iso = pretty_midi.PrettyMIDI()\n",
    "print(pm.instruments[0].notes[1])\n",
    "pm_iso.instruments = [pm.instruments[0]]\n",
    "print(pm_iso.instruments)\n",
    "pm_iso.instruments[0].notes = [pm_iso.instruments[0].notes[1]]\n",
    "print(pm_iso.instruments[0].notes)\n",
    "note_start = pm_iso.instruments[0].notes[0].start\n",
    "note_end = pm_iso.instruments[0].notes[0].end\n",
    "note_pitch = pm_iso.instruments[0].notes[0].pitch\n",
    "note_velocity = pm_iso.instruments[0].notes[0].velocity\n",
    "print(\"velocity {}\".format(note_velocity))\n",
    "note_iso_duration = note_end - note_start\n",
    "print(\"duration {}s\".format(note_iso_duration))\n",
    "print(pm_iso.instruments[0].notes[0].end)\n",
    "pm_iso.instruments[0].notes[0].end = note_iso_duration\n",
    "print(pm_iso.instruments[0].notes[0].end)\n",
    "pm_iso.instruments[0].notes[0].start = 0.0\n",
    "pm_iso.instruments[0].notes[0].velocity = 60\n",
    "\n",
    "start = time.time()\n",
    "pm_iso_samples = pm_iso.fluidsynth(fs=fs, sf2_path=sf2_path)\n",
    "print(\"wav gen {}s\".format(time.time()-start))\n",
    "print(\"pm_iso_samples {}\".format(len(pm_iso_samples)))\n",
    "print(pm_iso.instruments[0].notes)"
   ]
  },
  {
   "cell_type": "code",
   "execution_count": null,
   "metadata": {},
   "outputs": [],
   "source": [
    "# cut out irrelevant sections\n",
    "sample_duration = int(note_start - note_end)\n",
    "sample_start = int(note_start * 44100)\n",
    "sample_end = sample_start + sample_duration\n",
    "\n",
    "pm_iso_samples = pm_iso_samples[:sample_duration+44100]\n",
    "pm_samples = pm_samples[sample_start:sample_end+44100]"
   ]
  },
  {
   "cell_type": "code",
   "execution_count": null,
   "metadata": {},
   "outputs": [],
   "source": [
    "ipd.Audio(data=pm_samples, rate=44100)"
   ]
  },
  {
   "cell_type": "code",
   "execution_count": null,
   "metadata": {},
   "outputs": [],
   "source": [
    "plt.plot(pm_samples)\n",
    "plt.show"
   ]
  },
  {
   "cell_type": "code",
   "execution_count": null,
   "metadata": {},
   "outputs": [],
   "source": [
    "ipd.Audio(data=pm_iso_samples, rate=44100)"
   ]
  },
  {
   "cell_type": "code",
   "execution_count": null,
   "metadata": {},
   "outputs": [],
   "source": [
    "plt.plot(pm_iso_samples)\n",
    "plt.show\n",
    "# are the relative audio levels affected by synthesizing alone?\n",
    "# or is this just pitch being more accurate and less averaged"
   ]
  },
  {
   "cell_type": "code",
   "execution_count": null,
   "metadata": {},
   "outputs": [],
   "source": [
    "# make the spectrograms\n",
    "spec_og = librosa.feature.melspectrogram(y=pm_samples, sr=44100)\n",
    "plt.figure(figsize=(10, 4))\n",
    "librosa.display.specshow(librosa.power_to_db(spec_og, ref=np.max), \n",
    "                         y_axis='mel', fmax=8000, x_axis='time')\n",
    "plt.colorbar(format='%+2.0f dB')\n",
    "plt.title('Mel spectrogram')\n",
    "plt.tight_layout()"
   ]
  },
  {
   "cell_type": "code",
   "execution_count": null,
   "metadata": {},
   "outputs": [],
   "source": [
    "spec_iso = librosa.feature.melspectrogram(y=pm_iso_samples, sr=44100)\n",
    "plt.figure(figsize=(10, 4))\n",
    "librosa.display.specshow(librosa.power_to_db(spec_iso, ref=np.max), \n",
    "                         y_axis='mel', fmax=8000, x_axis='time')\n",
    "plt.colorbar(format='%+2.0f dB')\n",
    "plt.title('Mel spectrogram')\n",
    "plt.tight_layout()\n",
    "\n",
    "# why does the note look relatively louder?"
   ]
  },
  {
   "cell_type": "code",
   "execution_count": null,
   "metadata": {},
   "outputs": [],
   "source": [
    "print(spec_og.shape)\n",
    "print(spec_iso.shape)\n",
    "spec_diff = spec_og - spec_iso\n",
    "plt.figure(figsize=(10, 4))\n",
    "librosa.display.specshow(librosa.power_to_db(spec_diff, ref=np.max), \n",
    "                         y_axis='mel', fmax=8000, x_axis='time')\n",
    "plt.colorbar(format='%+2.0f dB')\n",
    "plt.title('Mel spectrogram')\n",
    "plt.tight_layout()\n",
    "\n",
    "# how can we convert this back to audio once we have found the mask?\n",
    "# should the mask predict binary values?"
   ]
  },
  {
   "cell_type": "code",
   "execution_count": null,
   "metadata": {},
   "outputs": [],
   "source": [
    "print(note_pitch)  # 81, A5, 880ish\n",
    "note_hz = pretty_midi.note_number_to_hz(note_pitch)\n",
    "spec_indicator = spec_og\n",
    "spec_indicator[note_pitch,:] = 0\n",
    "plt.figure(figsize=(10, 4))\n",
    "librosa.display.specshow(librosa.power_to_db(spec_indicator, ref=np.max), \n",
    "                         y_axis='mel', fmax=8000, x_axis='time')\n",
    "plt.colorbar(format='%+2.0f dB')\n",
    "plt.title('Mel spectrogram')\n",
    "plt.tight_layout()"
   ]
  },
  {
   "cell_type": "code",
   "execution_count": null,
   "metadata": {},
   "outputs": [],
   "source": [
    "\n",
    "# at the end, we have relative note onset / offset, audio w background, audio iso \n",
    "# still need to generate mask\n",
    "# split this code into manageable chunks"
   ]
  },
  {
   "cell_type": "code",
   "execution_count": null,
   "metadata": {},
   "outputs": [],
   "source": [
    "og_stft = librosa.core.stft(y=pm_samples)\n",
    "plt.figure(figsize=(10, 4))\n",
    "librosa.display.specshow(librosa.power_to_db(np.abs(og_stft**2), ref=np.max), \n",
    "                         y_axis='mel', fmax=8000, x_axis='time')\n",
    "plt.colorbar(format='%+2.0f dB')\n",
    "plt.title('STFT')\n",
    "plt.tight_layout()\n",
    "print(og_stft.shape)"
   ]
  },
  {
   "cell_type": "code",
   "execution_count": null,
   "metadata": {},
   "outputs": [],
   "source": [
    "new_pm_samples = librosa.core.istft(stft_matrix=og_stft)\n",
    "ipd.Audio(data=new_pm_samples, rate=44100)"
   ]
  },
  {
   "cell_type": "code",
   "execution_count": null,
   "metadata": {},
   "outputs": [],
   "source": [
    "def normalize(a):\n",
    "    a_oo = a - a.real.min() - 1j*a.imag.min() # origin offsetted\n",
    "    return a_oo/np.abs(a_oo).max()\n",
    "\n",
    "def sigmoid(x):\n",
    "    return 1 / (1 + np.exp(-x))"
   ]
  },
  {
   "cell_type": "code",
   "execution_count": null,
   "metadata": {},
   "outputs": [],
   "source": [
    "iso_stft = librosa.core.stft(y=pm_iso_samples)\n",
    "print(iso_stft[0][0])\n",
    "print(np.min(iso_stft))\n",
    "print(-1 * np.max(iso_stft))\n",
    "print(iso_stft[0][0])\n",
    "print(np.max(iso_stft))\n",
    "plt.figure(figsize=(10, 4))\n",
    "librosa.display.specshow(librosa.power_to_db(np.abs(iso_stft**2), ref=np.max), \n",
    "                         y_axis='mel', x_axis='time')\n",
    "plt.colorbar(format='%+2.0f dB')\n",
    "plt.title('STFT')\n",
    "plt.tight_layout()\n",
    "print(iso_stft.shape)\n",
    "\n",
    "print(np.max(np.abs(iso_stft)))\n",
    "print(np.max(np.abs(og_stft)))"
   ]
  },
  {
   "cell_type": "code",
   "execution_count": null,
   "metadata": {},
   "outputs": [],
   "source": [
    "# try making the mask binary mask and then see if it works reasonably\n",
    "\n",
    "stft_diff = iso_stft / og_stft\n",
    "new_iso_stft = og_stft * stft_diff\n",
    "print(stft_diff[0][0])\n",
    "print(np.max(np.abs(stft_diff)))\n",
    "print(np.max(stft_diff))\n",
    "#stft_diff = sigmoid(normalize((og_stft / iso_stft)))\n",
    "print(stft_diff[0][0])\n",
    "print(np.max(stft_diff))\n",
    "plt.figure(figsize=(10, 4))\n",
    "librosa.display.specshow(librosa.power_to_db(np.abs(new_iso_stft**2), ref=np.max), \n",
    "                         y_axis='mel', fmax=8000, x_axis='time')\n",
    "plt.colorbar(format='%+2.0f dB')\n",
    "plt.title('STFT')\n",
    "plt.tight_layout()\n",
    "print(stft_diff.shape)"
   ]
  },
  {
   "cell_type": "code",
   "execution_count": null,
   "metadata": {},
   "outputs": [],
   "source": [
    "new_iso_samples = librosa.core.istft(stft_matrix=new_iso_stft)\n",
    "ipd.Audio(data=new_iso_samples, rate=44100)"
   ]
  },
  {
   "cell_type": "code",
   "execution_count": null,
   "metadata": {},
   "outputs": [],
   "source": [
    "spec_diff = librosa.feature.melspectrogram(y=diff_samples, sr=44100)\n",
    "plt.figure(figsize=(10, 4))\n",
    "librosa.display.specshow(librosa.power_to_db(spec_diff, ref=np.max), \n",
    "                         y_axis='mel', fmax=8000, x_axis='time')\n",
    "plt.colorbar(format='%+2.0f dB')\n",
    "plt.title('Mel spectrogram')\n",
    "plt.tight_layout()"
   ]
  },
  {
   "cell_type": "code",
   "execution_count": null,
   "metadata": {},
   "outputs": [],
   "source": [
    "plt.imshow(np.abs(stft_diff))\n",
    "plt.show()\n"
   ]
  },
  {
   "cell_type": "code",
   "execution_count": null,
   "metadata": {},
   "outputs": [],
   "source": [
    "plt.imshow(np.abs(stft_diff), interpolation='nearest')\n",
    "plt.show()"
   ]
  },
  {
   "cell_type": "code",
   "execution_count": null,
   "metadata": {},
   "outputs": [],
   "source": []
  }
 ],
 "metadata": {
  "kernelspec": {
   "display_name": "Python 3",
   "language": "python",
   "name": "python3"
  },
  "language_info": {
   "codemirror_mode": {
    "name": "ipython",
    "version": 3
   },
   "file_extension": ".py",
   "mimetype": "text/x-python",
   "name": "python",
   "nbconvert_exporter": "python",
   "pygments_lexer": "ipython3",
   "version": "3.6.7"
  }
 },
 "nbformat": 4,
 "nbformat_minor": 2
}
